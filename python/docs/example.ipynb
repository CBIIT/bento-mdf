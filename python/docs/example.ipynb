{
    "cells": [
        {
            "attachments": {},
            "cell_type": "markdown",
            "metadata": {},
            "source": [
                "# Example Usage\n",
                "\n",
                "To use `bento-mdf` in a project, start by installing the latest version with `pip install bento-mdf` and importing it into your project."
            ]
        },
        {
            "cell_type": "code",
            "execution_count": 52,
            "metadata": {},
            "outputs": [
                {
                    "data": {
                        "text/plain": [
                            "'0.10.0'"
                        ]
                    },
                    "execution_count": 52,
                    "metadata": {},
                    "output_type": "execute_result"
                }
            ],
            "source": [
                "import bento_mdf\n",
                "from pathlib import Path # for file paths\n",
                "from importlib.metadata import version # check package version\n",
                "\n",
                "version(\"bento_mdf\")"
            ]
        },
        {
            "cell_type": "markdown",
            "metadata": {},
            "source": [
                "## Loading the Model from MDF(s)\n",
                "\n",
                "The `bento-mdf` package provides functionality for loading, validating, and manipulating MDF file content in Python.\n",
                "\n",
                "The `MDF` class is the main interface to the package. It is initialized with the relevant MDF file(s), filepath(s), or URL pointing to these."
            ]
        },
        {
            "cell_type": "code",
            "execution_count": 53,
            "metadata": {},
            "outputs": [],
            "source": [
                "from bento_mdf.mdf import MDF"
            ]
        },
        {
            "cell_type": "markdown",
            "metadata": {},
            "source": [
                "### Loading from File(s)\n",
                "\n",
                "First, we can specify the paths to the MDF files we want to load. Then, we provide these to the `MDF` class to initalize the model. This loads the content of these files into their corresponding `bento-meta` Python object representations, which we can access via the `Model` object found at `MDF.model`.\n",
                "\n",
                "(Note: if a top-level model `Handle` is not present in the MDFs, it needs to be provided to the MDF class's `handle` argument.)"
            ]
        },
        {
            "cell_type": "code",
            "execution_count": 54,
            "metadata": {},
            "outputs": [
                {
                    "data": {
                        "text/plain": [
                            "<bento_meta.model.Model at 0x218cbcdb7d0>"
                        ]
                    },
                    "execution_count": 54,
                    "metadata": {},
                    "output_type": "execute_result"
                }
            ],
            "source": [
                "mdf_dir = Path.cwd().parent / \"tests\" / \"samples\"\n",
                "ctdc_model = mdf_dir / \"ctdc_model_file.yaml\"\n",
                "ctdc_props = mdf_dir / \"ctdc_model_properties_file.yaml\"\n",
                "\n",
                "mdf_from_file = MDF(ctdc_model, ctdc_props, handle=\"CTDC\")\n",
                "mdf_from_file.model"
            ]
        },
        {
            "cell_type": "markdown",
            "metadata": {},
            "source": [
                "### Loading from URL(s)\n",
                "\n",
                "Similarly, we can instantiate an MDF from URL(s) pointing to the model file(s):"
            ]
        },
        {
            "cell_type": "code",
            "execution_count": 55,
            "metadata": {},
            "outputs": [
                {
                    "data": {
                        "text/plain": [
                            "<bento_meta.model.Model at 0x218cb4f6240>"
                        ]
                    },
                    "execution_count": 55,
                    "metadata": {},
                    "output_type": "execute_result"
                }
            ],
            "source": [
                "model_url = \"https://cbiit.github.io/icdc-model-tool/model-desc/icdc-model.yml\"\n",
                "props_url = \"https://cbiit.github.io/icdc-model-tool/model-desc/icdc-model-props.yml\"\n",
                "\n",
                "mdf = MDF(model_url, props_url, handle=\"ICDC\")\n",
                "mdf.model"
            ]
        },
        {
            "cell_type": "markdown",
            "metadata": {},
            "source": [
                "## Exploring the Model\n",
                "\n",
                "Once we've loaded the model, we can start looking at the entities that make it up, including Nodes, Relationships, Properties, and Terms. These are conveniently stored in the `bento-meta Model` object. \n",
                "\n",
                "Note: This example will use the model created in the previous section from a URL."
            ]
        },
        {
            "cell_type": "markdown",
            "metadata": {},
            "source": [
                "### Nodes\n",
                "\n",
                "Model nodes are stored as dictionaries in `Model.nodes`, where the keys are node handles and the values are `bento-meta Node` objects."
            ]
        },
        {
            "cell_type": "code",
            "execution_count": 56,
            "metadata": {},
            "outputs": [
                {
                    "data": {
                        "text/plain": [
                            "33"
                        ]
                    },
                    "execution_count": 56,
                    "metadata": {},
                    "output_type": "execute_result"
                }
            ],
            "source": [
                "nodes = mdf.model.nodes\n",
                "\n",
                "len(nodes)"
            ]
        },
        {
            "cell_type": "code",
            "execution_count": 57,
            "metadata": {},
            "outputs": [
                {
                    "data": {
                        "text/plain": [
                            "['program', 'study', 'study_site']"
                        ]
                    },
                    "execution_count": 57,
                    "metadata": {},
                    "output_type": "execute_result"
                }
            ],
            "source": [
                "list(nodes.keys())[:3]"
            ]
        },
        {
            "cell_type": "code",
            "execution_count": 58,
            "metadata": {},
            "outputs": [
                {
                    "data": {
                        "text/plain": [
                            "[<bento_meta.objects.Node at 0x218cba03b60>,\n",
                            " <bento_meta.objects.Node at 0x218cbb86240>,\n",
                            " <bento_meta.objects.Node at 0x218cbb86e40>]"
                        ]
                    },
                    "execution_count": 58,
                    "metadata": {},
                    "output_type": "execute_result"
                }
            ],
            "source": [
                "list(nodes.values())[:3]"
            ]
        },
        {
            "cell_type": "code",
            "execution_count": 59,
            "metadata": {},
            "outputs": [
                {
                    "data": {
                        "text/plain": [
                            "<bento_meta.objects.Node at 0x218cbb86240>"
                        ]
                    },
                    "execution_count": 59,
                    "metadata": {},
                    "output_type": "execute_result"
                }
            ],
            "source": [
                "nodes[\"study\"]"
            ]
        },
        {
            "cell_type": "markdown",
            "metadata": {},
            "source": [
                "The `get_attr_dict()` method is a convenient way to get a dictionary of a `bento-meta Entity's` set attributes. This will return string versions of the attributes. This can be useful for exploring the entity or for providing parameters to Neo4j Cypher queries.\n",
                "\n",
                "Note: this only includes simple attributes and not other bento-meta Entities or collections of Entities. All attributes can be accessed via methods matching their names."
            ]
        },
        {
            "cell_type": "code",
            "execution_count": 60,
            "metadata": {},
            "outputs": [
                {
                    "data": {
                        "text/plain": [
                            "{'handle': 'diagnosis',\n",
                            " 'model': 'ICDC',\n",
                            " 'desc': 'The Diagnosis node contains numerous properties which fully characterize the type of cancer with which any given patient/subject/donor was diagnosed, inclusive of stage. This node also contains properties pertaining to comorbidities, and the availability of pathology reports, treatment data and follow-up data.'}"
                        ]
                    },
                    "execution_count": 60,
                    "metadata": {},
                    "output_type": "execute_result"
                }
            ],
            "source": [
                "nodes[\"diagnosis\"].get_attr_dict()"
            ]
        },
        {
            "cell_type": "markdown",
            "metadata": {},
            "source": [
                "### Relationships\n",
                "\n",
                "Simlarly, Model relationships are stored in `Model.edges`. This is a dictionary where the keys are (edge.handle, src.handle, dst.handle) tuples. The values are `Edge` objects."
            ]
        },
        {
            "cell_type": "code",
            "execution_count": 61,
            "metadata": {},
            "outputs": [
                {
                    "data": {
                        "text/plain": [
                            "49"
                        ]
                    },
                    "execution_count": 61,
                    "metadata": {},
                    "output_type": "execute_result"
                }
            ],
            "source": [
                "edges = mdf.model.edges\n",
                "\n",
                "len(edges)"
            ]
        },
        {
            "cell_type": "code",
            "execution_count": 62,
            "metadata": {},
            "outputs": [
                {
                    "data": {
                        "text/plain": [
                            "[('member_of', 'case', 'cohort'),\n",
                            " ('member_of', 'cohort', 'study_arm'),\n",
                            " ('member_of', 'study_arm', 'study')]"
                        ]
                    },
                    "execution_count": 62,
                    "metadata": {},
                    "output_type": "execute_result"
                }
            ],
            "source": [
                "list(edges.keys())[:3]"
            ]
        },
        {
            "cell_type": "code",
            "execution_count": 63,
            "metadata": {},
            "outputs": [
                {
                    "data": {
                        "text/plain": [
                            "[<bento_meta.objects.Edge at 0x218cbaf1dc0>,\n",
                            " <bento_meta.objects.Edge at 0x218cbaf1bb0>,\n",
                            " <bento_meta.objects.Edge at 0x218cbd58590>]"
                        ]
                    },
                    "execution_count": 63,
                    "metadata": {},
                    "output_type": "execute_result"
                }
            ],
            "source": [
                "list(edges.values())[:3]"
            ]
        },
        {
            "cell_type": "code",
            "execution_count": 64,
            "metadata": {},
            "outputs": [
                {
                    "data": {
                        "text/plain": [
                            "{'handle': 'of_case', 'model': 'ICDC', 'multiplicity': 'many_to_one'}"
                        ]
                    },
                    "execution_count": 64,
                    "metadata": {},
                    "output_type": "execute_result"
                }
            ],
            "source": [
                "edges[(\"of_case\", \"diagnosis\", \"case\")].get_attr_dict()"
            ]
        },
        {
            "cell_type": "code",
            "execution_count": 65,
            "metadata": {},
            "outputs": [
                {
                    "name": "stdout",
                    "output_type": "stream",
                    "text": [
                        "of_case, diagnosis, case\n",
                        "('of_case', 'diagnosis', 'case')\n"
                    ]
                }
            ],
            "source": [
                "edge = edges[(\"of_case\", \"diagnosis\", \"case\")]\n",
                "print(edge.handle, edge.src.handle, edge.dst.handle, sep=\", \")\n",
                "\n",
                "\n",
                "# TIP: here's a convenient method to get the 3-tuple of an edge\n",
                "print(edge.triplet)"
            ]
        },
        {
            "cell_type": "markdown",
            "metadata": {},
            "source": [
                "An `Edge's` `src` and `dst` attributes are `Nodes`"
            ]
        },
        {
            "cell_type": "code",
            "execution_count": 66,
            "metadata": {},
            "outputs": [
                {
                    "name": "stdout",
                    "output_type": "stream",
                    "text": [
                        "<bento_meta.objects.Node object at 0x00000218CBB317F0>\n",
                        "diagnosis\n"
                    ]
                }
            ],
            "source": [
                "print(edge.src)\n",
                "\n",
                "print(edge.src.handle)"
            ]
        },
        {
            "cell_type": "markdown",
            "metadata": {},
            "source": [
                "The `Model` object also has some useful methods to work with relationships/edges including:\n",
                "  * `edges_by_src(node)` - get all edges that have a given node as their src attribute\n",
                "  * `edges_by_dst(node)` - get all edges that have a given node as their dst attribute\n",
                "  * `edges_by_type(edge_handle)` - get all edges that have a given edge type (i.e., handle)"
            ]
        },
        {
            "cell_type": "code",
            "execution_count": 67,
            "metadata": {},
            "outputs": [
                {
                    "data": {
                        "text/plain": [
                            "[('of_case', 'enrollment', 'case'),\n",
                            " ('of_case', 'demographic', 'case'),\n",
                            " ('of_case', 'diagnosis', 'case'),\n",
                            " ('of_case', 'cycle', 'case'),\n",
                            " ('of_case', 'follow_up', 'case'),\n",
                            " ('of_case', 'sample', 'case'),\n",
                            " ('of_case', 'file', 'case'),\n",
                            " ('of_case', 'visit', 'case'),\n",
                            " ('of_case', 'adverse_event', 'case'),\n",
                            " ('of_case', 'registration', 'case')]"
                        ]
                    },
                    "execution_count": 67,
                    "metadata": {},
                    "output_type": "execute_result"
                }
            ],
            "source": [
                "[e.triplet for e in mdf.model.edges_by_dst(mdf.model.nodes[\"case\"])]"
            ]
        },
        {
            "cell_type": "code",
            "execution_count": 68,
            "metadata": {},
            "outputs": [
                {
                    "data": {
                        "text/plain": [
                            "[('of_study', 'study_site', 'study'),\n",
                            " ('of_study', 'principal_investigator', 'study'),\n",
                            " ('of_study', 'file', 'study'),\n",
                            " ('of_study', 'image_collection', 'study'),\n",
                            " ('of_study', 'publication', 'study')]"
                        ]
                    },
                    "execution_count": 68,
                    "metadata": {},
                    "output_type": "execute_result"
                }
            ],
            "source": [
                "[e.triplet for e in mdf.model.edges_by_type(\"of_study\")]"
            ]
        },
        {
            "cell_type": "markdown",
            "metadata": {},
            "source": [
                "### Properties\n",
                "\n",
                "Model properties are stored in `Model.props`. This is a dictionary where the keys are ({edge|node}.handle, prop.handle) tuples. The values are `Property` objects."
            ]
        },
        {
            "cell_type": "code",
            "execution_count": 69,
            "metadata": {},
            "outputs": [
                {
                    "data": {
                        "text/plain": [
                            "240"
                        ]
                    },
                    "execution_count": 69,
                    "metadata": {},
                    "output_type": "execute_result"
                }
            ],
            "source": [
                "props = mdf.model.props\n",
                "\n",
                "len(props)"
            ]
        },
        {
            "cell_type": "code",
            "execution_count": 70,
            "metadata": {},
            "outputs": [
                {
                    "data": {
                        "text/plain": [
                            "[('program', 'program_name'),\n",
                            " ('program', 'program_acronym'),\n",
                            " ('program', 'program_short_description')]"
                        ]
                    },
                    "execution_count": 70,
                    "metadata": {},
                    "output_type": "execute_result"
                }
            ],
            "source": [
                "list(props.keys())[:3]"
            ]
        },
        {
            "cell_type": "code",
            "execution_count": 71,
            "metadata": {},
            "outputs": [
                {
                    "data": {
                        "text/plain": [
                            "[<bento_meta.objects.Property at 0x218cbd777d0>,\n",
                            " <bento_meta.objects.Property at 0x218cbd76c60>,\n",
                            " <bento_meta.objects.Property at 0x218cbd77aa0>]"
                        ]
                    },
                    "execution_count": 71,
                    "metadata": {},
                    "output_type": "execute_result"
                }
            ],
            "source": [
                "list(props.values())[:3]"
            ]
        },
        {
            "cell_type": "code",
            "execution_count": 72,
            "metadata": {},
            "outputs": [
                {
                    "data": {
                        "text/plain": [
                            "{'handle': 'primary_disease_site',\n",
                            " 'model': 'ICDC',\n",
                            " 'value_domain': 'value_set',\n",
                            " 'is_required': 'Yes',\n",
                            " 'is_key': 'False',\n",
                            " 'is_nullable': 'False',\n",
                            " 'is_strict': 'True',\n",
                            " 'desc': 'The anatomical location at which the primary disease originated, recorded in relatively general terms at the subject level; the anatomical locations from which tumor samples subject to downstream analysis were acquired is recorded in more detailed terms at the sample level.'}"
                        ]
                    },
                    "execution_count": 72,
                    "metadata": {},
                    "output_type": "execute_result"
                }
            ],
            "source": [
                "primary_disease_site = props[(\"diagnosis\", \"primary_disease_site\")]\n",
                "primary_disease_site.get_attr_dict()"
            ]
        },
        {
            "cell_type": "markdown",
            "metadata": {},
            "source": [
                "#### Properties with Value Sets\n",
                "\n",
                "Properties with the value_domain \"value_set\" have the `value_set` attribute (`bento-meta ValueSet`), which has a `terms` attribute (`bento-meta Term` dictionary like `{term.value: Term}`)."
            ]
        },
        {
            "cell_type": "code",
            "execution_count": 73,
            "metadata": {},
            "outputs": [
                {
                    "data": {
                        "text/plain": [
                            "<bento_meta.objects.ValueSet at 0x218cbf3a7b0>"
                        ]
                    },
                    "execution_count": 73,
                    "metadata": {},
                    "output_type": "execute_result"
                }
            ],
            "source": [
                "primary_disease_site.value_set"
            ]
        },
        {
            "cell_type": "code",
            "execution_count": 74,
            "metadata": {},
            "outputs": [
                {
                    "data": {
                        "text/plain": [
                            "{'Bladder': <bento_meta.objects.Term object at 0x00000218CBF3A960>, 'Bladder, Prostate': <bento_meta.objects.Term object at 0x00000218CBF3AAB0>, 'Bladder, Urethra': <bento_meta.objects.Term object at 0x00000218CBF3AC00>, 'Bladder, Urethra, Prostate': <bento_meta.objects.Term object at 0x00000218CBF3B0B0>, 'Bladder, Urethra, Vagina': <bento_meta.objects.Term object at 0x00000218CBF3AD20>, 'Bone': <bento_meta.objects.Term object at 0x00000218CBF3AC30>, 'Bone (Appendicular)': <bento_meta.objects.Term object at 0x00000218CBF3AE40>, 'Bone (Axial)': <bento_meta.objects.Term object at 0x00000218CBF3ADE0>, 'Bone Marrow': <bento_meta.objects.Term object at 0x00000218CBF3ABA0>, 'Brain': <bento_meta.objects.Term object at 0x00000218CBF3B020>, 'Carpus': <bento_meta.objects.Term object at 0x00000218CBF3AE70>, 'Chest Wall': <bento_meta.objects.Term object at 0x00000218CBF3B2F0>, 'Distal Urethra': <bento_meta.objects.Term object at 0x00000218CBF3B110>, 'Kidney': <bento_meta.objects.Term object at 0x00000218CBF3B710>, 'Lung': <bento_meta.objects.Term object at 0x00000218CBF3B500>, 'Lymph Node': <bento_meta.objects.Term object at 0x00000218CBF3B5F0>, 'Mammary Gland': <bento_meta.objects.Term object at 0x00000218CBF3B290>, 'Mouth': <bento_meta.objects.Term object at 0x00000218CBF3B800>, 'Not Applicable': <bento_meta.objects.Term object at 0x00000218CBF3B860>, 'Pleural Cavity': <bento_meta.objects.Term object at 0x00000218CBF3B950>, 'Shoulder': <bento_meta.objects.Term object at 0x00000218CBF3B980>, 'Skin': <bento_meta.objects.Term object at 0x00000218CBF3BAD0>, 'Spleen': <bento_meta.objects.Term object at 0x00000218CBF3BFB0>, 'Subcutis': <bento_meta.objects.Term object at 0x00000218CBF3BE30>, 'Thyroid Gland': <bento_meta.objects.Term object at 0x00000218CBF3BF50>, 'Unknown': <bento_meta.objects.Term object at 0x00000218CBF3BEF0>, 'Urethra, Prostate': <bento_meta.objects.Term object at 0x00000218CBF3BF80>, 'Urinary Tract': <bento_meta.objects.Term object at 0x00000218CBF3BE60>, 'Urogenital Tract': <bento_meta.objects.Term object at 0x00000218CBF3B350>}"
                        ]
                    },
                    "execution_count": 74,
                    "metadata": {},
                    "output_type": "execute_result"
                }
            ],
            "source": [
                "primary_disease_site.value_set.terms"
            ]
        },
        {
            "cell_type": "markdown",
            "metadata": {},
            "source": [
                "`Property` objects with value sets have some useful methods to get to those terms and their values including:\n",
                "  * `.terms` returns a list of `Term` objects from the property's value set\n",
                "  * `.values` returns a list of the term values from the property's value set"
            ]
        },
        {
            "cell_type": "code",
            "execution_count": 75,
            "metadata": {},
            "outputs": [
                {
                    "name": "stdout",
                    "output_type": "stream",
                    "text": [
                        "{'Bladder': <bento_meta.objects.Term object at 0x00000218CBF3A960>, 'Bladder, Prostate': <bento_meta.objects.Term object at 0x00000218CBF3AAB0>, 'Bladder, Urethra': <bento_meta.objects.Term object at 0x00000218CBF3AC00>, 'Bladder, Urethra, Prostate': <bento_meta.objects.Term object at 0x00000218CBF3B0B0>, 'Bladder, Urethra, Vagina': <bento_meta.objects.Term object at 0x00000218CBF3AD20>, 'Bone': <bento_meta.objects.Term object at 0x00000218CBF3AC30>, 'Bone (Appendicular)': <bento_meta.objects.Term object at 0x00000218CBF3AE40>, 'Bone (Axial)': <bento_meta.objects.Term object at 0x00000218CBF3ADE0>, 'Bone Marrow': <bento_meta.objects.Term object at 0x00000218CBF3ABA0>, 'Brain': <bento_meta.objects.Term object at 0x00000218CBF3B020>, 'Carpus': <bento_meta.objects.Term object at 0x00000218CBF3AE70>, 'Chest Wall': <bento_meta.objects.Term object at 0x00000218CBF3B2F0>, 'Distal Urethra': <bento_meta.objects.Term object at 0x00000218CBF3B110>, 'Kidney': <bento_meta.objects.Term object at 0x00000218CBF3B710>, 'Lung': <bento_meta.objects.Term object at 0x00000218CBF3B500>, 'Lymph Node': <bento_meta.objects.Term object at 0x00000218CBF3B5F0>, 'Mammary Gland': <bento_meta.objects.Term object at 0x00000218CBF3B290>, 'Mouth': <bento_meta.objects.Term object at 0x00000218CBF3B800>, 'Not Applicable': <bento_meta.objects.Term object at 0x00000218CBF3B860>, 'Pleural Cavity': <bento_meta.objects.Term object at 0x00000218CBF3B950>, 'Shoulder': <bento_meta.objects.Term object at 0x00000218CBF3B980>, 'Skin': <bento_meta.objects.Term object at 0x00000218CBF3BAD0>, 'Spleen': <bento_meta.objects.Term object at 0x00000218CBF3BFB0>, 'Subcutis': <bento_meta.objects.Term object at 0x00000218CBF3BE30>, 'Thyroid Gland': <bento_meta.objects.Term object at 0x00000218CBF3BF50>, 'Unknown': <bento_meta.objects.Term object at 0x00000218CBF3BEF0>, 'Urethra, Prostate': <bento_meta.objects.Term object at 0x00000218CBF3BF80>, 'Urinary Tract': <bento_meta.objects.Term object at 0x00000218CBF3BE60>, 'Urogenital Tract': <bento_meta.objects.Term object at 0x00000218CBF3B350>}\n",
                        "True\n"
                    ]
                }
            ],
            "source": [
                "print(primary_disease_site.terms)\n",
                "\n",
                "# TIP: this is the same object found at the ValueSet's `terms` attribute\n",
                "print(primary_disease_site.terms is primary_disease_site.value_set.terms)"
            ]
        },
        {
            "cell_type": "code",
            "execution_count": 76,
            "metadata": {},
            "outputs": [
                {
                    "name": "stdout",
                    "output_type": "stream",
                    "text": [
                        "Shoulder\n",
                        "29\n",
                        "True\n"
                    ]
                }
            ],
            "source": [
                "print(primary_disease_site.values[20])\n",
                "\n",
                "print(len(primary_disease_site.values))\n",
                "\n",
                "print(primary_disease_site.values == list(primary_disease_site.terms.keys()))"
            ]
        },
        {
            "cell_type": "markdown",
            "metadata": {},
            "source": [
                "#### Properties via Parent\n",
                "\n",
                "Model properties can also be accessed via their parent node|edge's `props` attribute, which is a dictionary of properties."
            ]
        },
        {
            "cell_type": "code",
            "execution_count": 77,
            "metadata": {},
            "outputs": [
                {
                    "data": {
                        "text/plain": [
                            "14"
                        ]
                    },
                    "execution_count": 77,
                    "metadata": {},
                    "output_type": "execute_result"
                }
            ],
            "source": [
                "diagnosis_props = nodes[\"diagnosis\"].props\n",
                "len(diagnosis_props)"
            ]
        },
        {
            "cell_type": "code",
            "execution_count": 78,
            "metadata": {},
            "outputs": [
                {
                    "data": {
                        "text/plain": [
                            "['diagnosis_id', 'disease_term', 'primary_disease_site']"
                        ]
                    },
                    "execution_count": 78,
                    "metadata": {},
                    "output_type": "execute_result"
                }
            ],
            "source": [
                "list(diagnosis_props.keys())[:3]"
            ]
        },
        {
            "cell_type": "code",
            "execution_count": 79,
            "metadata": {},
            "outputs": [
                {
                    "data": {
                        "text/plain": [
                            "[<bento_meta.objects.Property at 0x218cbf38cb0>,\n",
                            " <bento_meta.objects.Property at 0x218cbf39100>,\n",
                            " <bento_meta.objects.Property at 0x218cbf3a660>]"
                        ]
                    },
                    "execution_count": 79,
                    "metadata": {},
                    "output_type": "execute_result"
                }
            ],
            "source": [
                "list(diagnosis_props.values())[:3]"
            ]
        },
        {
            "cell_type": "markdown",
            "metadata": {},
            "source": [
                "Properties accesed via their parents are the same Property objects found in `Model.props`."
            ]
        },
        {
            "cell_type": "code",
            "execution_count": 80,
            "metadata": {},
            "outputs": [
                {
                    "data": {
                        "text/plain": [
                            "True"
                        ]
                    },
                    "execution_count": 80,
                    "metadata": {},
                    "output_type": "execute_result"
                }
            ],
            "source": [
                "diagnosis_props[\"primary_disease_site\"] is props[(\"diagnosis\", \"primary_disease_site\")]"
            ]
        },
        {
            "cell_type": "markdown",
            "metadata": {},
            "source": [
                "### Terms\n",
                "\n",
                "Model terms are stored in `Model.terms` as a dictionary of `Term` objects. The keys are the term handles, and the values are the `Term` objects. Terms are used to relate string descriptors in the model, such as permissible values in a property's value set, or semantic concepts from other frameworks that can describe an entity in the model via annotation (e.g. a caDSR Common Data Element/CDE annotating a model property).\n",
                "\n",
                "The keys in `Model.terms` are (term.handle, term.origin) tuples and the values are `bento-meta` `Term` objects."
            ]
        },
        {
            "cell_type": "code",
            "execution_count": 81,
            "metadata": {},
            "outputs": [
                {
                    "data": {
                        "text/plain": [
                            "538"
                        ]
                    },
                    "execution_count": 81,
                    "metadata": {},
                    "output_type": "execute_result"
                }
            ],
            "source": [
                "terms = mdf.model.terms\n",
                "\n",
                "len(terms)"
            ]
        },
        {
            "cell_type": "code",
            "execution_count": 82,
            "metadata": {},
            "outputs": [
                {
                    "data": {
                        "text/plain": [
                            "[('Unrestricted', 'ICDC'), ('Pending', 'ICDC'), ('Under Embargo', 'ICDC')]"
                        ]
                    },
                    "execution_count": 82,
                    "metadata": {},
                    "output_type": "execute_result"
                }
            ],
            "source": [
                "list(terms.keys())[:3]"
            ]
        },
        {
            "cell_type": "code",
            "execution_count": 83,
            "metadata": {},
            "outputs": [
                {
                    "data": {
                        "text/plain": [
                            "[<bento_meta.objects.Term at 0x218cbd82600>,\n",
                            " <bento_meta.objects.Term at 0x218cbd81df0>,\n",
                            " <bento_meta.objects.Term at 0x218cbd81dc0>]"
                        ]
                    },
                    "execution_count": 83,
                    "metadata": {},
                    "output_type": "execute_result"
                }
            ],
            "source": [
                "list(terms.values())[:3]"
            ]
        },
        {
            "cell_type": "code",
            "execution_count": 84,
            "metadata": {},
            "outputs": [
                {
                    "data": {
                        "text/plain": [
                            "{'handle': 'Shoulder', 'value': 'Shoulder', 'origin_name': 'ICDC'}"
                        ]
                    },
                    "execution_count": 84,
                    "metadata": {},
                    "output_type": "execute_result"
                }
            ],
            "source": [
                "shoulder = terms[(\"Shoulder\", \"ICDC\")]\n",
                "shoulder.get_attr_dict()"
            ]
        },
        {
            "cell_type": "markdown",
            "metadata": {},
            "source": [
                "#### Terms via ValueSet\n",
                "\n",
                "Terms that are part of value set can be accessed via the owner of that value set as well. This is the same object found in `Model.terms`"
            ]
        },
        {
            "cell_type": "code",
            "execution_count": 85,
            "metadata": {},
            "outputs": [
                {
                    "data": {
                        "text/plain": [
                            "True"
                        ]
                    },
                    "execution_count": 85,
                    "metadata": {},
                    "output_type": "execute_result"
                }
            ],
            "source": [
                "primary_disease_site.terms[\"Shoulder\"] is shoulder"
            ]
        },
        {
            "cell_type": "markdown",
            "metadata": {},
            "source": [
                "#### Term Annotations\n",
                "\n",
                "Terms are also used to annotate model entities with semantic represenations from some other framework. For example, a Term from caDSR may be used to annotate a model property with a semantically equivalent CDE. In the `MDF`, these annotations are provided under the `Term` key for a given entity. "
            ]
        },
        {
            "cell_type": "code",
            "execution_count": 86,
            "metadata": {},
            "outputs": [
                {
                    "name": "stderr",
                    "output_type": "stream",
                    "text": [
                        "100%|██████████| 2/2 [00:00<00:00, 2000.62it/s]\n"
                    ]
                },
                {
                    "data": {
                        "text/plain": [
                            "<bento_meta.model.Model at 0x218cbd32390>"
                        ]
                    },
                    "execution_count": 86,
                    "metadata": {},
                    "output_type": "execute_result"
                }
            ],
            "source": [
                "mdf_dir = Path.cwd().parent / \"tests\" / \"samples\"\n",
                "model_with_terms = mdf_dir / \"test-model-with-terms-a.yml\"\n",
                "# Tip: model 'Handle' key is in the yaml file so we don't need to provide one to MDF()\n",
                "terms_mdf = MDF(model_with_terms)\n",
                "terms_mdf.model"
            ]
        },
        {
            "cell_type": "markdown",
            "metadata": {},
            "source": [
                "Terms can annotate nodes, relationships, and properties. The annotating term(s) are linked to the annotated entity via a `bento-meta Concept`, which stores them in a dictionary of the same format found at `Model.terms` (i.e. `{(term.value, term.origin_name): Term}`)."
            ]
        },
        {
            "cell_type": "code",
            "execution_count": 87,
            "metadata": {},
            "outputs": [
                {
                    "data": {
                        "text/plain": [
                            "<bento_meta.objects.Concept at 0x218cbce4c50>"
                        ]
                    },
                    "execution_count": 87,
                    "metadata": {},
                    "output_type": "execute_result"
                }
            ],
            "source": [
                "case_concept = terms_mdf.model.nodes[\"case\"].concept\n",
                "case_concept"
            ]
        },
        {
            "cell_type": "code",
            "execution_count": 88,
            "metadata": {},
            "outputs": [
                {
                    "data": {
                        "text/plain": [
                            "{('case_term', 'CTDC'): <bento_meta.objects.Term object at 0x00000218CBCE7350>, ('subject', 'caDSR'): <bento_meta.objects.Term object at 0x00000218CBD19B50>}"
                        ]
                    },
                    "execution_count": 88,
                    "metadata": {},
                    "output_type": "execute_result"
                }
            ],
            "source": [
                "case_concept.terms"
            ]
        },
        {
            "cell_type": "code",
            "execution_count": 89,
            "metadata": {},
            "outputs": [
                {
                    "name": "stdout",
                    "output_type": "stream",
                    "text": [
                        "{'handle': 'subject', 'value': 'subject', 'origin_name': 'caDSR'}\n"
                    ]
                }
            ],
            "source": [
                "# TIP: to find an annotating CDE, we can look for entries where the origin is 'caDSR'\n",
                "for term_key, term in case_concept.terms.items():\n",
                "    if term_key[1] == \"caDSR\":\n",
                "        print(term.get_attr_dict())"
            ]
        },
        {
            "cell_type": "code",
            "execution_count": 90,
            "metadata": {},
            "outputs": [
                {
                    "data": {
                        "text/plain": [
                            "{('of_case_term', 'CTDC'): <bento_meta.objects.Term object at 0x00000218CBCD80E0>}"
                        ]
                    },
                    "execution_count": 90,
                    "metadata": {},
                    "output_type": "execute_result"
                }
            ],
            "source": [
                "terms_mdf.model.edges[(\"of_case\", \"sample\", \"case\")].concept.terms"
            ]
        },
        {
            "cell_type": "code",
            "execution_count": 91,
            "metadata": {},
            "outputs": [
                {
                    "data": {
                        "text/plain": [
                            "{('case_id', 'CTDC'): <bento_meta.objects.Term object at 0x00000218CBCF5EE0>}"
                        ]
                    },
                    "execution_count": 91,
                    "metadata": {},
                    "output_type": "execute_result"
                }
            ],
            "source": [
                "terms_mdf.model.props[(\"case\", \"case_id\")].concept.terms"
            ]
        },
        {
            "cell_type": "code",
            "execution_count": 92,
            "metadata": {},
            "outputs": [
                {
                    "data": {
                        "text/plain": [
                            "True"
                        ]
                    },
                    "execution_count": 92,
                    "metadata": {},
                    "output_type": "execute_result"
                }
            ],
            "source": [
                "# TIP: terms found in Model.terms are the same objects as those in an entity's concept\n",
                "case_id_anno = terms_mdf.model.props[(\"case\", \"case_id\")].concept.terms[(\"case_id\", \"CTDC\")]\n",
                "terms_mdf.model.terms[(\"case_id\", \"CTDC\")] is case_id_anno"
            ]
        },
        {
            "cell_type": "markdown",
            "metadata": {},
            "source": [
                "### Tags\n",
                "\n",
                "A tags entry can be added to any object in the model. They are used to associated metainformation with an entity for downstream custom processing. Any `bento-meta Entity` except the `Tag` can be tagged with one of these key-value pairs. They are accessible via the `tags` attribute of the entity, where they are stored in a dictionary where the key is the tag's 'key' and the value is a `bento-meta Tag` object."
            ]
        },
        {
            "cell_type": "code",
            "execution_count": 93,
            "metadata": {},
            "outputs": [
                {
                    "data": {
                        "text/plain": [
                            "{'Labeled': <bento_meta.objects.Tag object at 0x00000218CBD881A0>}"
                        ]
                    },
                    "execution_count": 93,
                    "metadata": {},
                    "output_type": "execute_result"
                }
            ],
            "source": [
                "icdc_breed_tags = mdf.model.props[(\"demographic\", \"breed\")].tags\n",
                "icdc_breed_tags"
            ]
        },
        {
            "cell_type": "code",
            "execution_count": 94,
            "metadata": {},
            "outputs": [
                {
                    "data": {
                        "text/plain": [
                            "{'key': 'Labeled', 'value': 'Breed'}"
                        ]
                    },
                    "execution_count": 94,
                    "metadata": {},
                    "output_type": "execute_result"
                }
            ],
            "source": [
                "icdc_breed_tags[\"Labeled\"].get_attr_dict()"
            ]
        },
        {
            "cell_type": "markdown",
            "metadata": {},
            "source": [
                "## Validating the Model\n",
                "\n",
                "As the `MDF` class loads the model, it automatically validates it against the MDF schema and will raise an exception if the model is invalid. This will use the [default schema](https://github.com/CBIIT/bento-mdf/blob/main/schema/mdf-schema.yaml) unless one is provided via the `MDF` class's `mdf_schema` argument.\n",
                "\n",
                "`bento-mdf` also provides the `MDFValidator` class, which can be used to validate a model against the MDF schema directly."
            ]
        },
        {
            "cell_type": "code",
            "execution_count": 95,
            "metadata": {},
            "outputs": [
                {
                    "data": {
                        "text/plain": [
                            "<bento_mdf.validator.MDFValidator at 0x218cbd76c00>"
                        ]
                    },
                    "execution_count": 95,
                    "metadata": {},
                    "output_type": "execute_result"
                }
            ],
            "source": [
                "from bento_mdf.validator import MDFValidator\n",
                "\n",
                "validator = MDFValidator(\n",
                "    None,\n",
                "    *[ctdc_model, ctdc_props],\n",
                "    raise_error=True,\n",
                ")\n",
                "validator"
            ]
        },
        {
            "cell_type": "code",
            "execution_count": 96,
            "metadata": {},
            "outputs": [],
            "source": [
                "validator.load_and_validate_schema(); # load and check that JSON schema is valid"
            ]
        },
        {
            "cell_type": "code",
            "execution_count": 97,
            "metadata": {},
            "outputs": [],
            "source": [
                "validator.load_and_validate_yaml().as_dict(); # load and check YAML is valid"
            ]
        },
        {
            "cell_type": "code",
            "execution_count": 98,
            "metadata": {},
            "outputs": [],
            "source": [
                "validator.validate_instance_with_schema(); # check YAML against the schema"
            ]
        },
        {
            "cell_type": "markdown",
            "metadata": {},
            "source": [
                "If the schema or yaml instances (from MDF files) are invalid, the validation will fail."
            ]
        },
        {
            "cell_type": "code",
            "execution_count": 99,
            "metadata": {},
            "outputs": [],
            "source": [
                "from jsonschema import SchemaError, ValidationError\n",
                "from yaml.parser import ParserError\n",
                "from IPython.display import clear_output"
            ]
        },
        {
            "cell_type": "markdown",
            "metadata": {},
            "source": [
                "### Schema is invalid"
            ]
        },
        {
            "cell_type": "code",
            "execution_count": 100,
            "metadata": {},
            "outputs": [
                {
                    "name": "stdout",
                    "output_type": "stream",
                    "text": [
                        "'crobject' is not valid under any of the given schemas\n",
                        "\n",
                        "Failed validating 'anyOf' in metaschema['properties']['properties']['additionalProperties']['properties']['type']:\n",
                        "    {'anyOf': [{'$ref': '#/definitions/simpleTypes'},\n",
                        "               {'type': 'array',\n",
                        "                'items': {'$ref': '#/definitions/simpleTypes'},\n",
                        "                'minItems': 1,\n",
                        "                'uniqueItems': True}]}\n",
                        "\n",
                        "On schema['properties']['UniversalNodeProperties']['type']:\n",
                        "    'crobject'\n"
                    ]
                }
            ],
            "source": [
                "bad_schema = mdf_dir / \"mdf-bad-schema.yaml\"\n",
                "\n",
                "try:\n",
                "    MDFValidator(bad_schema, raise_error=True).load_and_validate_schema()\n",
                "except SchemaError as e:\n",
                "    clear_output()\n",
                "    print(e)"
            ]
        },
        {
            "cell_type": "markdown",
            "metadata": {},
            "source": [
                "### YAML structure is invalid"
            ]
        },
        {
            "cell_type": "code",
            "execution_count": 101,
            "metadata": {},
            "outputs": [
                {
                    "name": "stdout",
                    "output_type": "stream",
                    "text": [
                        "while parsing a block mapping\n",
                        "  in \"c:\\Users\\nelso\\Documents\\GitHub\\bento-mdf\\python\\tests\\samples\\ctdc_model_bad.yaml\", line 1, column 1\n",
                        "expected <block end>, but found '<block mapping start>'\n",
                        "  in \"c:\\Users\\nelso\\Documents\\GitHub\\bento-mdf\\python\\tests\\samples\\ctdc_model_bad.yaml\", line 3, column 3\n"
                    ]
                }
            ],
            "source": [
                "bad_yaml = mdf_dir / \"ctdc_model_bad.yaml\"\n",
                "\n",
                "try:\n",
                "    MDFValidator(None, bad_yaml, raise_error=True).load_and_validate_yaml()\n",
                "except ParserError as e:\n",
                "    clear_output()\n",
                "    print(e)"
            ]
        },
        {
            "cell_type": "markdown",
            "metadata": {},
            "source": [
                "### MDF YAMLs are invalid against the MDF schema"
            ]
        },
        {
            "cell_type": "code",
            "execution_count": 102,
            "metadata": {},
            "outputs": [
                {
                    "name": "stdout",
                    "output_type": "stream",
                    "text": [
                        "'case.show_node' does not match '^[A-Za-z_][A-Za-z0-9_]*$'\n",
                        "\n",
                        "Failed validating 'pattern' in schema['properties']['PropDefinitions']['propertyNames']:\n",
                        "    {'$id': '#snake_case_id',\n",
                        "     'type': 'string',\n",
                        "     'pattern': '^[A-Za-z_][A-Za-z0-9_]*$'}\n",
                        "\n",
                        "On instance['PropDefinitions']:\n",
                        "    'case.show_node'\n"
                    ]
                }
            ],
            "source": [
                "test_schema = mdf_dir / \"mdf-schema.yaml\"\n",
                "ctdc_bad = mdf_dir / \"ctdc_model_file_invalid.yaml\"\n",
                "\n",
                "try:\n",
                "    v = MDFValidator(\n",
                "        test_schema,\n",
                "        *[ctdc_bad, ctdc_props],\n",
                "        raise_error=True\n",
                "    )\n",
                "    v.load_and_validate_schema()\n",
                "    v.load_and_validate_yaml()\n",
                "    v.validate_instance_with_schema()\n",
                "except ValidationError as e:\n",
                "    clear_output()\n",
                "    print(e)"
            ]
        },
        {
            "cell_type": "markdown",
            "metadata": {},
            "source": [
                "## Model Diff\n",
                "\n",
                "`bento-mdf` also provides the `diff_models` function, which can be used to compare two models and report on the differences between them. This is useful for comparing models that have been updated or modified over time.\n",
                "\n",
                "`diff_models()` has two required arguments, both of which are `bento_meta.Model` objects:\n",
                "  * `mdl_a`: The first model to compare.\n",
                "  * `mdl_b`: The second model to compare.\n",
                "\n",
                "The function returns a `dict` with keys for nodes, edges, props, and terms, each with a dictionary with keys:\n",
                "  * `\"added\"`: found in `mdl_a` but not in `mdl_b`\n",
                "  * `\"removed\"`: found in `mdl_b` but not in `mdl_a`\n",
                "  * `\"changed\"`: found in both models but with altered attributes"
            ]
        },
        {
            "cell_type": "code",
            "execution_count": 103,
            "metadata": {},
            "outputs": [
                {
                    "data": {
                        "text/plain": [
                            "{'nodes': {'changed': {'diagnosis': {'props': {'removed': {'fatal': <bento_meta.objects.Property at 0x218cbb76150>},\n",
                            "     'added': None}}},\n",
                            "  'removed': None,\n",
                            "  'added': {'outcome': <bento_meta.objects.Node at 0x218cbcc3e60>}},\n",
                            " 'edges': {'removed': None,\n",
                            "  'added': {('end_result',\n",
                            "    'diagnosis',\n",
                            "    'outcome'): <bento_meta.objects.Edge at 0x218cbfd6240>}},\n",
                            " 'props': {'removed': {('diagnosis',\n",
                            "    'fatal'): <bento_meta.objects.Property at 0x218cbb76150>},\n",
                            "  'added': {('outcome',\n",
                            "    'fatal'): <bento_meta.objects.Property at 0x218cbfd7500>}}}"
                        ]
                    },
                    "execution_count": 103,
                    "metadata": {},
                    "output_type": "execute_result"
                }
            ],
            "source": [
                "from bento_mdf.diff import diff_models\n",
                "\n",
                "old_model = mdf_dir / \"test-model-d.yml\"\n",
                "new_model = mdf_dir / \"test-model-e.yml\"\n",
                "\n",
                "old_mdf = MDF(old_model, handle=\"TEST\")\n",
                "new_mdf = MDF(new_model, handle=\"TEST\")\n",
                "\n",
                "diff_models(mdl_a=old_mdf.model, mdl_b=new_mdf.model)"
            ]
        },
        {
            "cell_type": "markdown",
            "metadata": {},
            "source": [
                "`diff_models` has two optional arguments:\n",
                "  * `objects_as_dicts`: if True, the output will convert `bento-meta Entity` objects like `Node` or `Edge` to dictionaries with `get_attr_dict()`\n",
                "  * `include_summary`: if True, the output will include a formatted string summary of the differences between the two models. This can be useful for GitHub changelogs when a model is updated, for example."
            ]
        },
        {
            "cell_type": "code",
            "execution_count": 104,
            "metadata": {},
            "outputs": [
                {
                    "data": {
                        "text/plain": [
                            "{'diagnosis': {'props': {'removed': {'fatal': {'handle': 'fatal',\n",
                            "     'model': 'TEST',\n",
                            "     'value_domain': 'value_set',\n",
                            "     'is_required': 'False',\n",
                            "     'is_key': 'False',\n",
                            "     'is_nullable': 'False',\n",
                            "     'is_strict': 'True'}},\n",
                            "   'added': None}}}"
                        ]
                    },
                    "execution_count": 104,
                    "metadata": {},
                    "output_type": "execute_result"
                }
            ],
            "source": [
                "diff = diff_models(\n",
                "    old_mdf.model,\n",
                "    new_mdf.model,\n",
                "    objects_as_dicts=True, include_summary=True)\n",
                "\n",
                "diff[\"nodes\"][\"changed\"]"
            ]
        },
        {
            "cell_type": "code",
            "execution_count": 127,
            "metadata": {},
            "outputs": [
                {
                    "name": "stdout",
                    "output_type": "stream",
                    "text": [
                        "1 node(s) added; 1 edge(s) added; 1 prop(s) removed; 1 prop(s) added; 1 attribute(s) changed for 1 node(s)\n",
                        "- Added node: 'outcome'\n",
                        "- Added edge: 'end_result' with src: 'diagnosis' and dst: 'outcome'\n",
                        "- Removed prop: 'fatal' with parent: 'diagnosis'\n",
                        "- Added prop: 'fatal' with parent: 'outcome'\n"
                    ]
                }
            ],
            "source": [
                "print(diff[\"summary\"], sep=\"\\n\")"
            ]
        }
    ],
    "metadata": {
        "kernelspec": {
            "display_name": "bento_mdf",
            "language": "python",
            "name": "python3"
        },
        "language_info": {
            "codemirror_mode": {
                "name": "ipython",
                "version": 3
            },
            "file_extension": ".py",
            "mimetype": "text/x-python",
            "name": "python",
            "nbconvert_exporter": "python",
            "pygments_lexer": "ipython3",
            "version": "3.12.4"
        }
    },
    "nbformat": 4,
    "nbformat_minor": 4
}
