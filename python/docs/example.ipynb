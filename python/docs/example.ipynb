{
    "cells": [
        {
            "attachments": {},
            "cell_type": "markdown",
            "metadata": {},
            "source": [
                "# Example Usage\n",
                "\n",
                "To use `bento-mdf` in a project, start by installing the latest version with `pip install bento-mdf` and importing it into your project."
            ]
        },
        {
            "cell_type": "code",
            "execution_count": 59,
            "metadata": {},
            "outputs": [
                {
                    "data": {
                        "text/plain": [
                            "'0.10.0'"
                        ]
                    },
                    "execution_count": 59,
                    "metadata": {},
                    "output_type": "execute_result"
                }
            ],
            "source": [
                "import bento_mdf\n",
                "from pathlib import Path # for file paths\n",
                "from importlib.metadata import version # check package version\n",
                "\n",
                "version(\"bento_mdf\")"
            ]
        },
        {
            "cell_type": "markdown",
            "metadata": {},
            "source": [
                "## Loading the Model from MDF(s)\n",
                "\n",
                "The `bento-mdf` package provides functionality for loading, validating, and manipulating MDF file content in Python.\n",
                "\n",
                "The `MDF` class is the main interface to the package. It is initialized with the relevant MDF file(s), filepath(s), or URL pointing to these."
            ]
        },
        {
            "cell_type": "code",
            "execution_count": 60,
            "metadata": {},
            "outputs": [],
            "source": [
                "from bento_mdf.mdf import MDF"
            ]
        },
        {
            "cell_type": "markdown",
            "metadata": {},
            "source": [
                "### Loading from File(s)\n",
                "\n",
                "First, we can specify the paths to the MDF files we want to load. Then, we provide these to the `MDF` class to initalize the model. This loads the content of these files into their corresponding `bento-meta` Python object representations, which we can access via the `Model` object found at `MDF.model`.\n",
                "\n",
                "(Note: if a top-level model `Handle` is not present in the MDFs, it needs to be provided to the MDF class's `handle` argument.)"
            ]
        },
        {
            "cell_type": "code",
            "execution_count": 61,
            "metadata": {},
            "outputs": [
                {
                    "data": {
                        "text/plain": [
                            "<bento_meta.model.Model at 0x24190ce5250>"
                        ]
                    },
                    "execution_count": 61,
                    "metadata": {},
                    "output_type": "execute_result"
                }
            ],
            "source": [
                "mdf_dir = Path.cwd().parent / \"tests\" / \"samples\"\n",
                "ctdc_model = mdf_dir / \"ctdc_model_file.yaml\"\n",
                "ctdc_props = mdf_dir / \"ctdc_model_properties_file.yaml\"\n",
                "\n",
                "mdf_from_file = MDF(ctdc_model, ctdc_props, handle=\"CTDC\")\n",
                "mdf_from_file.model"
            ]
        },
        {
            "cell_type": "markdown",
            "metadata": {},
            "source": [
                "### Loading from URL(s)\n",
                "\n",
                "Similarly, we can instantiate an MDF from URL(s) pointing to the model file(s):"
            ]
        },
        {
            "cell_type": "code",
            "execution_count": 62,
            "metadata": {},
            "outputs": [
                {
                    "data": {
                        "text/plain": [
                            "<bento_meta.model.Model at 0x241931256d0>"
                        ]
                    },
                    "execution_count": 62,
                    "metadata": {},
                    "output_type": "execute_result"
                }
            ],
            "source": [
                "model_url = \"https://cbiit.github.io/icdc-model-tool/model-desc/icdc-model.yml\"\n",
                "props_url = \"https://cbiit.github.io/icdc-model-tool/model-desc/icdc-model-props.yml\"\n",
                "\n",
                "mdf = MDF(model_url, props_url, handle=\"ICDC\")\n",
                "mdf.model"
            ]
        },
        {
            "cell_type": "markdown",
            "metadata": {},
            "source": [
                "## Exploring the Model\n",
                "\n",
                "Once we've loaded the model, we can start looking at the entities that make it up, including Nodes, Relationships, Properties, and Terms. These are conveniently stored in the `bento-meta Model` object. \n",
                "\n",
                "Note: This example will use the model created in the previous section from a URL."
            ]
        },
        {
            "cell_type": "markdown",
            "metadata": {},
            "source": [
                "### Nodes\n",
                "\n",
                "Model nodes are stored as dictionaries in `Model.nodes`, where the keys are node handles and the values are `bento-meta Node` objects."
            ]
        },
        {
            "cell_type": "code",
            "execution_count": 63,
            "metadata": {},
            "outputs": [
                {
                    "data": {
                        "text/plain": [
                            "33"
                        ]
                    },
                    "execution_count": 63,
                    "metadata": {},
                    "output_type": "execute_result"
                }
            ],
            "source": [
                "nodes = mdf.model.nodes\n",
                "\n",
                "len(nodes)"
            ]
        },
        {
            "cell_type": "code",
            "execution_count": 64,
            "metadata": {},
            "outputs": [
                {
                    "data": {
                        "text/plain": [
                            "['program', 'study', 'study_site']"
                        ]
                    },
                    "execution_count": 64,
                    "metadata": {},
                    "output_type": "execute_result"
                }
            ],
            "source": [
                "list(nodes.keys())[:3]"
            ]
        },
        {
            "cell_type": "code",
            "execution_count": 65,
            "metadata": {},
            "outputs": [
                {
                    "data": {
                        "text/plain": [
                            "[<bento_meta.objects.Node at 0x24193157260>,\n",
                            " <bento_meta.objects.Node at 0x24193015460>,\n",
                            " <bento_meta.objects.Node at 0x24192fd4a70>]"
                        ]
                    },
                    "execution_count": 65,
                    "metadata": {},
                    "output_type": "execute_result"
                }
            ],
            "source": [
                "list(nodes.values())[:3]"
            ]
        },
        {
            "cell_type": "code",
            "execution_count": 66,
            "metadata": {},
            "outputs": [
                {
                    "data": {
                        "text/plain": [
                            "<bento_meta.objects.Node at 0x24193015460>"
                        ]
                    },
                    "execution_count": 66,
                    "metadata": {},
                    "output_type": "execute_result"
                }
            ],
            "source": [
                "nodes[\"study\"]"
            ]
        },
        {
            "cell_type": "markdown",
            "metadata": {},
            "source": [
                "The `get_attr_dict()` method is a convenient way to get a dictionary of a `bento-meta Entity's` set attributes. This will return string versions of the attributes. This can be useful for exploring the entity or for providing parameters to Neo4j Cypher queries.\n",
                "\n",
                "Note: this only includes simple attributes and not other bento-meta Entities or collections of Entities. All attributes can be accessed via methods matching their names."
            ]
        },
        {
            "cell_type": "code",
            "execution_count": 67,
            "metadata": {},
            "outputs": [
                {
                    "data": {
                        "text/plain": [
                            "{'handle': 'diagnosis',\n",
                            " 'model': 'ICDC',\n",
                            " 'desc': 'The Diagnosis node contains numerous properties which fully characterize the type of cancer with which any given patient/subject/donor was diagnosed, inclusive of stage. This node also contains properties pertaining to comorbidities, and the availability of pathology reports, treatment data and follow-up data.'}"
                        ]
                    },
                    "execution_count": 67,
                    "metadata": {},
                    "output_type": "execute_result"
                }
            ],
            "source": [
                "nodes[\"diagnosis\"].get_attr_dict()"
            ]
        },
        {
            "cell_type": "markdown",
            "metadata": {},
            "source": [
                "### Relationships\n",
                "\n",
                "Simlarly, Model relationships are stored in `Model.edges`. This is a dictionary where the keys are (edge.handle, src.handle, dst.handle) tuples. The values are `Edge` objects."
            ]
        },
        {
            "cell_type": "code",
            "execution_count": 68,
            "metadata": {},
            "outputs": [
                {
                    "data": {
                        "text/plain": [
                            "49"
                        ]
                    },
                    "execution_count": 68,
                    "metadata": {},
                    "output_type": "execute_result"
                }
            ],
            "source": [
                "edges = mdf.model.edges\n",
                "\n",
                "len(edges)"
            ]
        },
        {
            "cell_type": "code",
            "execution_count": 69,
            "metadata": {},
            "outputs": [
                {
                    "data": {
                        "text/plain": [
                            "[('member_of', 'case', 'cohort'),\n",
                            " ('member_of', 'cohort', 'study_arm'),\n",
                            " ('member_of', 'study_arm', 'study')]"
                        ]
                    },
                    "execution_count": 69,
                    "metadata": {},
                    "output_type": "execute_result"
                }
            ],
            "source": [
                "list(edges.keys())[:3]"
            ]
        },
        {
            "cell_type": "code",
            "execution_count": 70,
            "metadata": {},
            "outputs": [
                {
                    "data": {
                        "text/plain": [
                            "[<bento_meta.objects.Edge at 0x24192f9ad50>,\n",
                            " <bento_meta.objects.Edge at 0x24192f99430>,\n",
                            " <bento_meta.objects.Edge at 0x24193598230>]"
                        ]
                    },
                    "execution_count": 70,
                    "metadata": {},
                    "output_type": "execute_result"
                }
            ],
            "source": [
                "list(edges.values())[:3]"
            ]
        },
        {
            "cell_type": "code",
            "execution_count": 71,
            "metadata": {},
            "outputs": [
                {
                    "data": {
                        "text/plain": [
                            "{'handle': 'of_case', 'model': 'ICDC', 'multiplicity': 'many_to_one'}"
                        ]
                    },
                    "execution_count": 71,
                    "metadata": {},
                    "output_type": "execute_result"
                }
            ],
            "source": [
                "edges[(\"of_case\", \"diagnosis\", \"case\")].get_attr_dict()"
            ]
        },
        {
            "cell_type": "code",
            "execution_count": 72,
            "metadata": {},
            "outputs": [
                {
                    "name": "stdout",
                    "output_type": "stream",
                    "text": [
                        "of_case, diagnosis, case\n",
                        "('of_case', 'diagnosis', 'case')\n"
                    ]
                }
            ],
            "source": [
                "edge = edges[(\"of_case\", \"diagnosis\", \"case\")]\n",
                "print(edge.handle, edge.src.handle, edge.dst.handle, sep=\", \")\n",
                "\n",
                "\n",
                "# TIP: here's a convenient method to get the 3-tuple of an edge\n",
                "print(edge.triplet)"
            ]
        },
        {
            "cell_type": "markdown",
            "metadata": {},
            "source": [
                "An `Edge's` `src` and `dst` attributes are `Nodes`"
            ]
        },
        {
            "cell_type": "code",
            "execution_count": 73,
            "metadata": {},
            "outputs": [
                {
                    "name": "stdout",
                    "output_type": "stream",
                    "text": [
                        "<bento_meta.objects.Node object at 0x0000024192FC9370>\n",
                        "diagnosis\n"
                    ]
                }
            ],
            "source": [
                "print(edge.src)\n",
                "\n",
                "print(edge.src.handle)"
            ]
        },
        {
            "cell_type": "markdown",
            "metadata": {},
            "source": [
                "The `Model` object also has some useful methods to work with relationships/edges including:\n",
                "  * `edges_by_src(node)` - get all edges that have a given node as their src attribute\n",
                "  * `edges_by_dst(node)` - get all edges that have a given node as their dst attribute\n",
                "  * `edges_by_type(edge_handle)` - get all edges that have a given edge type (i.e., handle)"
            ]
        },
        {
            "cell_type": "code",
            "execution_count": 74,
            "metadata": {},
            "outputs": [
                {
                    "data": {
                        "text/plain": [
                            "[('of_case', 'enrollment', 'case'),\n",
                            " ('of_case', 'demographic', 'case'),\n",
                            " ('of_case', 'diagnosis', 'case'),\n",
                            " ('of_case', 'cycle', 'case'),\n",
                            " ('of_case', 'follow_up', 'case'),\n",
                            " ('of_case', 'sample', 'case'),\n",
                            " ('of_case', 'file', 'case'),\n",
                            " ('of_case', 'visit', 'case'),\n",
                            " ('of_case', 'adverse_event', 'case'),\n",
                            " ('of_case', 'registration', 'case')]"
                        ]
                    },
                    "execution_count": 74,
                    "metadata": {},
                    "output_type": "execute_result"
                }
            ],
            "source": [
                "[e.triplet for e in mdf.model.edges_by_dst(mdf.model.nodes[\"case\"])]"
            ]
        },
        {
            "cell_type": "code",
            "execution_count": 75,
            "metadata": {},
            "outputs": [
                {
                    "data": {
                        "text/plain": [
                            "[('of_study', 'study_site', 'study'),\n",
                            " ('of_study', 'principal_investigator', 'study'),\n",
                            " ('of_study', 'file', 'study'),\n",
                            " ('of_study', 'image_collection', 'study'),\n",
                            " ('of_study', 'publication', 'study')]"
                        ]
                    },
                    "execution_count": 75,
                    "metadata": {},
                    "output_type": "execute_result"
                }
            ],
            "source": [
                "[e.triplet for e in mdf.model.edges_by_type(\"of_study\")]"
            ]
        },
        {
            "cell_type": "markdown",
            "metadata": {},
            "source": [
                "### Properties\n",
                "\n",
                "Model properties are stored in `Model.props`. This is a dictionary where the keys are ({edge|node}.handle, prop.handle) tuples. The values are `Property` objects."
            ]
        },
        {
            "cell_type": "code",
            "execution_count": 76,
            "metadata": {},
            "outputs": [
                {
                    "data": {
                        "text/plain": [
                            "240"
                        ]
                    },
                    "execution_count": 76,
                    "metadata": {},
                    "output_type": "execute_result"
                }
            ],
            "source": [
                "props = mdf.model.props\n",
                "\n",
                "len(props)"
            ]
        },
        {
            "cell_type": "code",
            "execution_count": 77,
            "metadata": {},
            "outputs": [
                {
                    "data": {
                        "text/plain": [
                            "[('program', 'program_name'),\n",
                            " ('program', 'program_acronym'),\n",
                            " ('program', 'program_short_description')]"
                        ]
                    },
                    "execution_count": 77,
                    "metadata": {},
                    "output_type": "execute_result"
                }
            ],
            "source": [
                "list(props.keys())[:3]"
            ]
        },
        {
            "cell_type": "code",
            "execution_count": 78,
            "metadata": {},
            "outputs": [
                {
                    "data": {
                        "text/plain": [
                            "[<bento_meta.objects.Property at 0x241931efb00>,\n",
                            " <bento_meta.objects.Property at 0x241931ef6e0>,\n",
                            " <bento_meta.objects.Property at 0x241931ef5c0>]"
                        ]
                    },
                    "execution_count": 78,
                    "metadata": {},
                    "output_type": "execute_result"
                }
            ],
            "source": [
                "list(props.values())[:3]"
            ]
        },
        {
            "cell_type": "code",
            "execution_count": 79,
            "metadata": {},
            "outputs": [
                {
                    "data": {
                        "text/plain": [
                            "{'handle': 'primary_disease_site',\n",
                            " 'model': 'ICDC',\n",
                            " 'is_required': 'Yes',\n",
                            " 'desc': 'The anatomical location at which the primary disease originated, recorded in relatively general terms at the subject level; the anatomical locations from which tumor samples subject to downstream analysis were acquired is recorded in more detailed terms at the sample level.',\n",
                            " 'value_domain': 'value_set',\n",
                            " 'is_strict': 'True'}"
                        ]
                    },
                    "execution_count": 79,
                    "metadata": {},
                    "output_type": "execute_result"
                }
            ],
            "source": [
                "primary_disease_site = props[(\"diagnosis\", \"primary_disease_site\")]\n",
                "primary_disease_site.get_attr_dict()"
            ]
        },
        {
            "cell_type": "markdown",
            "metadata": {},
            "source": [
                "#### Properties with Value Sets\n",
                "\n",
                "Properties with the value_domain \"value_set\" have the `value_set` attribute (`bento-meta ValueSet`), which has a `terms` attribute (`bento-meta Term` dictionary like `{term.value: Term}`)."
            ]
        },
        {
            "cell_type": "code",
            "execution_count": 80,
            "metadata": {},
            "outputs": [
                {
                    "data": {
                        "text/plain": [
                            "<bento_meta.objects.ValueSet at 0x241930dd190>"
                        ]
                    },
                    "execution_count": 80,
                    "metadata": {},
                    "output_type": "execute_result"
                }
            ],
            "source": [
                "primary_disease_site.value_set"
            ]
        },
        {
            "cell_type": "code",
            "execution_count": 81,
            "metadata": {},
            "outputs": [
                {
                    "data": {
                        "text/plain": [
                            "{'Bladder': <bento_meta.objects.Term object at 0x00000241930DC560>, 'Bladder, Prostate': <bento_meta.objects.Term object at 0x00000241930DD6A0>, 'Bladder, Urethra': <bento_meta.objects.Term object at 0x0000024193137680>, 'Bladder, Urethra, Prostate': <bento_meta.objects.Term object at 0x00000241931369F0>, 'Bladder, Urethra, Vagina': <bento_meta.objects.Term object at 0x0000024193134DD0>, 'Bone': <bento_meta.objects.Term object at 0x0000024193135820>, 'Bone (Appendicular)': <bento_meta.objects.Term object at 0x0000024193136420>, 'Bone (Axial)': <bento_meta.objects.Term object at 0x0000024193137590>, 'Bone Marrow': <bento_meta.objects.Term object at 0x0000024192F48920>, 'Brain': <bento_meta.objects.Term object at 0x0000024192F4AF90>, 'Carpus': <bento_meta.objects.Term object at 0x0000024192F4AE40>, 'Chest Wall': <bento_meta.objects.Term object at 0x0000024192F4B320>, 'Distal Urethra': <bento_meta.objects.Term object at 0x0000024192F4AD20>, 'Kidney': <bento_meta.objects.Term object at 0x0000024192F480B0>, 'Lung': <bento_meta.objects.Term object at 0x0000024190C564B0>, 'Lymph Node': <bento_meta.objects.Term object at 0x0000024190C56CF0>, 'Mammary Gland': <bento_meta.objects.Term object at 0x00000241935B5100>, 'Mouth': <bento_meta.objects.Term object at 0x00000241935B5F40>, 'Not Applicable': <bento_meta.objects.Term object at 0x00000241935B52B0>, 'Pleural Cavity': <bento_meta.objects.Term object at 0x00000241935B54C0>, 'Shoulder': <bento_meta.objects.Term object at 0x00000241935B5430>, 'Skin': <bento_meta.objects.Term object at 0x00000241935B56A0>, 'Spleen': <bento_meta.objects.Term object at 0x00000241935B57C0>, 'Subcutis': <bento_meta.objects.Term object at 0x00000241935B64E0>, 'Thyroid Gland': <bento_meta.objects.Term object at 0x00000241935B5A30>, 'Unknown': <bento_meta.objects.Term object at 0x00000241935B5790>, 'Urethra, Prostate': <bento_meta.objects.Term object at 0x00000241935B57F0>, 'Urinary Tract': <bento_meta.objects.Term object at 0x00000241935B6030>, 'Urogenital Tract': <bento_meta.objects.Term object at 0x00000241935B58E0>}"
                        ]
                    },
                    "execution_count": 81,
                    "metadata": {},
                    "output_type": "execute_result"
                }
            ],
            "source": [
                "primary_disease_site.value_set.terms"
            ]
        },
        {
            "cell_type": "markdown",
            "metadata": {},
            "source": [
                "`Property` objects with value sets have some useful methods to get to those terms and their values including:\n",
                "  * `.terms` returns a list of `Term` objects from the property's value set\n",
                "  * `.values` returns a list of the term values from the property's value set"
            ]
        },
        {
            "cell_type": "code",
            "execution_count": 82,
            "metadata": {},
            "outputs": [
                {
                    "name": "stdout",
                    "output_type": "stream",
                    "text": [
                        "{'Bladder': <bento_meta.objects.Term object at 0x00000241930DC560>, 'Bladder, Prostate': <bento_meta.objects.Term object at 0x00000241930DD6A0>, 'Bladder, Urethra': <bento_meta.objects.Term object at 0x0000024193137680>, 'Bladder, Urethra, Prostate': <bento_meta.objects.Term object at 0x00000241931369F0>, 'Bladder, Urethra, Vagina': <bento_meta.objects.Term object at 0x0000024193134DD0>, 'Bone': <bento_meta.objects.Term object at 0x0000024193135820>, 'Bone (Appendicular)': <bento_meta.objects.Term object at 0x0000024193136420>, 'Bone (Axial)': <bento_meta.objects.Term object at 0x0000024193137590>, 'Bone Marrow': <bento_meta.objects.Term object at 0x0000024192F48920>, 'Brain': <bento_meta.objects.Term object at 0x0000024192F4AF90>, 'Carpus': <bento_meta.objects.Term object at 0x0000024192F4AE40>, 'Chest Wall': <bento_meta.objects.Term object at 0x0000024192F4B320>, 'Distal Urethra': <bento_meta.objects.Term object at 0x0000024192F4AD20>, 'Kidney': <bento_meta.objects.Term object at 0x0000024192F480B0>, 'Lung': <bento_meta.objects.Term object at 0x0000024190C564B0>, 'Lymph Node': <bento_meta.objects.Term object at 0x0000024190C56CF0>, 'Mammary Gland': <bento_meta.objects.Term object at 0x00000241935B5100>, 'Mouth': <bento_meta.objects.Term object at 0x00000241935B5F40>, 'Not Applicable': <bento_meta.objects.Term object at 0x00000241935B52B0>, 'Pleural Cavity': <bento_meta.objects.Term object at 0x00000241935B54C0>, 'Shoulder': <bento_meta.objects.Term object at 0x00000241935B5430>, 'Skin': <bento_meta.objects.Term object at 0x00000241935B56A0>, 'Spleen': <bento_meta.objects.Term object at 0x00000241935B57C0>, 'Subcutis': <bento_meta.objects.Term object at 0x00000241935B64E0>, 'Thyroid Gland': <bento_meta.objects.Term object at 0x00000241935B5A30>, 'Unknown': <bento_meta.objects.Term object at 0x00000241935B5790>, 'Urethra, Prostate': <bento_meta.objects.Term object at 0x00000241935B57F0>, 'Urinary Tract': <bento_meta.objects.Term object at 0x00000241935B6030>, 'Urogenital Tract': <bento_meta.objects.Term object at 0x00000241935B58E0>}\n",
                        "True\n"
                    ]
                }
            ],
            "source": [
                "print(primary_disease_site.terms)\n",
                "\n",
                "# TIP: this is the same object found at the ValueSet's `terms` attribute\n",
                "print(primary_disease_site.terms is primary_disease_site.value_set.terms)"
            ]
        },
        {
            "cell_type": "code",
            "execution_count": 83,
            "metadata": {},
            "outputs": [
                {
                    "name": "stdout",
                    "output_type": "stream",
                    "text": [
                        "Shoulder\n",
                        "29\n",
                        "True\n"
                    ]
                }
            ],
            "source": [
                "print(primary_disease_site.values[20])\n",
                "\n",
                "print(len(primary_disease_site.values))\n",
                "\n",
                "print(primary_disease_site.values == list(primary_disease_site.terms.keys()))"
            ]
        },
        {
            "cell_type": "markdown",
            "metadata": {},
            "source": [
                "#### Properties via Parent\n",
                "\n",
                "Model properties can also be accessed via their parent node|edge's `props` attribute, which is a dictionary of properties."
            ]
        },
        {
            "cell_type": "code",
            "execution_count": 84,
            "metadata": {},
            "outputs": [
                {
                    "data": {
                        "text/plain": [
                            "14"
                        ]
                    },
                    "execution_count": 84,
                    "metadata": {},
                    "output_type": "execute_result"
                }
            ],
            "source": [
                "diagnosis_props = nodes[\"diagnosis\"].props\n",
                "len(diagnosis_props)"
            ]
        },
        {
            "cell_type": "code",
            "execution_count": 85,
            "metadata": {},
            "outputs": [
                {
                    "data": {
                        "text/plain": [
                            "['diagnosis_id', 'disease_term', 'primary_disease_site']"
                        ]
                    },
                    "execution_count": 85,
                    "metadata": {},
                    "output_type": "execute_result"
                }
            ],
            "source": [
                "list(diagnosis_props.keys())[:3]"
            ]
        },
        {
            "cell_type": "code",
            "execution_count": 86,
            "metadata": {},
            "outputs": [
                {
                    "data": {
                        "text/plain": [
                            "[<bento_meta.objects.Property at 0x2419311fd10>,\n",
                            " <bento_meta.objects.Property at 0x2419311eb70>,\n",
                            " <bento_meta.objects.Property at 0x241930de2a0>]"
                        ]
                    },
                    "execution_count": 86,
                    "metadata": {},
                    "output_type": "execute_result"
                }
            ],
            "source": [
                "list(diagnosis_props.values())[:3]"
            ]
        },
        {
            "cell_type": "markdown",
            "metadata": {},
            "source": [
                "Properties accesed via their parents are the same Property objects found in `Model.props`."
            ]
        },
        {
            "cell_type": "code",
            "execution_count": 87,
            "metadata": {},
            "outputs": [
                {
                    "data": {
                        "text/plain": [
                            "True"
                        ]
                    },
                    "execution_count": 87,
                    "metadata": {},
                    "output_type": "execute_result"
                }
            ],
            "source": [
                "diagnosis_props[\"primary_disease_site\"] is props[(\"diagnosis\", \"primary_disease_site\")]"
            ]
        },
        {
            "cell_type": "markdown",
            "metadata": {},
            "source": [
                "### Terms\n",
                "\n",
                "Model terms are stored in `Model.terms` as a dictionary of `Term` objects. The keys are the term handles, and the values are the `Term` objects. Terms are used to relate string descriptors in the model, such as permissible values in a property's value set, or semantic concepts from other frameworks that can describe an entity in the model via annotation (e.g. a caDSR Common Data Element/CDE annotating a model property).\n",
                "\n",
                "The keys in `Model.terms` are (term.handle, term.origin) tuples and the values are `bento-meta` `Term` objects."
            ]
        },
        {
            "cell_type": "code",
            "execution_count": 88,
            "metadata": {},
            "outputs": [
                {
                    "data": {
                        "text/plain": [
                            "538"
                        ]
                    },
                    "execution_count": 88,
                    "metadata": {},
                    "output_type": "execute_result"
                }
            ],
            "source": [
                "terms = mdf.model.terms\n",
                "\n",
                "len(terms)"
            ]
        },
        {
            "cell_type": "code",
            "execution_count": 89,
            "metadata": {},
            "outputs": [
                {
                    "data": {
                        "text/plain": [
                            "[('Unrestricted', 'ICDC'), ('Pending', 'ICDC'), ('Under Embargo', 'ICDC')]"
                        ]
                    },
                    "execution_count": 89,
                    "metadata": {},
                    "output_type": "execute_result"
                }
            ],
            "source": [
                "list(terms.keys())[:3]"
            ]
        },
        {
            "cell_type": "code",
            "execution_count": 90,
            "metadata": {},
            "outputs": [
                {
                    "data": {
                        "text/plain": [
                            "[<bento_meta.objects.Term at 0x241935a12b0>,\n",
                            " <bento_meta.objects.Term at 0x241935a0440>,\n",
                            " <bento_meta.objects.Term at 0x241935a1850>]"
                        ]
                    },
                    "execution_count": 90,
                    "metadata": {},
                    "output_type": "execute_result"
                }
            ],
            "source": [
                "list(terms.values())[:3]"
            ]
        },
        {
            "cell_type": "code",
            "execution_count": 91,
            "metadata": {},
            "outputs": [
                {
                    "data": {
                        "text/plain": [
                            "{'handle': 'Shoulder', 'value': 'Shoulder', 'origin_name': 'ICDC'}"
                        ]
                    },
                    "execution_count": 91,
                    "metadata": {},
                    "output_type": "execute_result"
                }
            ],
            "source": [
                "shoulder = terms[(\"Shoulder\", \"ICDC\")]\n",
                "shoulder.get_attr_dict()"
            ]
        },
        {
            "cell_type": "markdown",
            "metadata": {},
            "source": [
                "#### Terms via ValueSet\n",
                "\n",
                "Terms that are part of value set can be accessed via the owner of that value set as well. This is the same object found in `Model.terms`"
            ]
        },
        {
            "cell_type": "code",
            "execution_count": 92,
            "metadata": {},
            "outputs": [
                {
                    "data": {
                        "text/plain": [
                            "True"
                        ]
                    },
                    "execution_count": 92,
                    "metadata": {},
                    "output_type": "execute_result"
                }
            ],
            "source": [
                "primary_disease_site.terms[\"Shoulder\"] is shoulder"
            ]
        },
        {
            "cell_type": "markdown",
            "metadata": {},
            "source": [
                "#### Term Annotations\n",
                "\n",
                "Terms are also used to annotate model entities with semantic represenations from some other framework. For example, a Term from caDSR may be used to annotate a model property with a semantically equivalent CDE. In the `MDF`, these annotations are provided under the `Term` key for a given entity. "
            ]
        },
        {
            "cell_type": "code",
            "execution_count": 93,
            "metadata": {},
            "outputs": [
                {
                    "name": "stderr",
                    "output_type": "stream",
                    "text": [
                        "100%|██████████| 2/2 [00:00<?, ?it/s]\n"
                    ]
                },
                {
                    "data": {
                        "text/plain": [
                            "<bento_meta.model.Model at 0x2419318ae10>"
                        ]
                    },
                    "execution_count": 93,
                    "metadata": {},
                    "output_type": "execute_result"
                }
            ],
            "source": [
                "mdf_dir = Path.cwd().parent / \"tests\" / \"samples\"\n",
                "model_with_terms = mdf_dir / \"test-model-with-terms-a.yml\"\n",
                "# Tip: model 'Handle' key is in the yaml file so we don't need to provide one to MDF()\n",
                "terms_mdf = MDF(model_with_terms)\n",
                "terms_mdf.model"
            ]
        },
        {
            "cell_type": "markdown",
            "metadata": {},
            "source": [
                "Terms can annotate nodes, relationships, and properties. The annotating term(s) are linked to the annotated entity via a `bento-meta Concept`, which stores them in a dictionary of the same format found at `Model.terms` (i.e. `{(term.value, term.origin_name): Term}`)."
            ]
        },
        {
            "cell_type": "code",
            "execution_count": 94,
            "metadata": {},
            "outputs": [
                {
                    "data": {
                        "text/plain": [
                            "<bento_meta.objects.Concept at 0x2419311ce60>"
                        ]
                    },
                    "execution_count": 94,
                    "metadata": {},
                    "output_type": "execute_result"
                }
            ],
            "source": [
                "case_concept = terms_mdf.model.nodes[\"case\"].concept\n",
                "case_concept"
            ]
        },
        {
            "cell_type": "code",
            "execution_count": 95,
            "metadata": {},
            "outputs": [
                {
                    "data": {
                        "text/plain": [
                            "{('case_term', 'CTDC'): <bento_meta.objects.Term object at 0x000002419313DE80>, ('subject', 'caDSR'): <bento_meta.objects.Term object at 0x0000024193188230>}"
                        ]
                    },
                    "execution_count": 95,
                    "metadata": {},
                    "output_type": "execute_result"
                }
            ],
            "source": [
                "case_concept.terms"
            ]
        },
        {
            "cell_type": "code",
            "execution_count": 96,
            "metadata": {},
            "outputs": [
                {
                    "name": "stdout",
                    "output_type": "stream",
                    "text": [
                        "{'value': 'subject', 'origin_name': 'caDSR', 'handle': 'subject'}\n"
                    ]
                }
            ],
            "source": [
                "# TIP: to find an annotating CDE, we can look for entries where the origin is 'caDSR'\n",
                "for term_key, term in case_concept.terms.items():\n",
                "    if term_key[1] == \"caDSR\":\n",
                "        print(term.get_attr_dict())"
            ]
        },
        {
            "cell_type": "code",
            "execution_count": 97,
            "metadata": {},
            "outputs": [
                {
                    "data": {
                        "text/plain": [
                            "{('of_case_term', 'CTDC'): <bento_meta.objects.Term object at 0x0000024193100440>}"
                        ]
                    },
                    "execution_count": 97,
                    "metadata": {},
                    "output_type": "execute_result"
                }
            ],
            "source": [
                "terms_mdf.model.edges[(\"of_case\", \"sample\", \"case\")].concept.terms"
            ]
        },
        {
            "cell_type": "code",
            "execution_count": 98,
            "metadata": {},
            "outputs": [
                {
                    "data": {
                        "text/plain": [
                            "{('case_id', 'CTDC'): <bento_meta.objects.Term object at 0x000002419310C920>}"
                        ]
                    },
                    "execution_count": 98,
                    "metadata": {},
                    "output_type": "execute_result"
                }
            ],
            "source": [
                "terms_mdf.model.props[(\"case\", \"case_id\")].concept.terms"
            ]
        },
        {
            "cell_type": "code",
            "execution_count": 99,
            "metadata": {},
            "outputs": [
                {
                    "data": {
                        "text/plain": [
                            "True"
                        ]
                    },
                    "execution_count": 99,
                    "metadata": {},
                    "output_type": "execute_result"
                }
            ],
            "source": [
                "# TIP: terms found in Model.terms are the same objects as those in an entity's concept\n",
                "case_id_anno = terms_mdf.model.props[(\"case\", \"case_id\")].concept.terms[(\"case_id\", \"CTDC\")]\n",
                "terms_mdf.model.terms[(\"case_id\", \"CTDC\")] is case_id_anno"
            ]
        },
        {
            "cell_type": "markdown",
            "metadata": {},
            "source": [
                "### Tags\n",
                "\n",
                "A tags entry can be added to any object in the model. They are used to associated metainformation with an entity for downstream custom processing. Any `bento-meta Entity` except the `Tag` can be tagged with one of these key-value pairs. They are accessible via the `tags` attribute of the entity, where they are stored in a dictionary where the key is the tag's 'key' and the value is a `bento-meta Tag` object."
            ]
        },
        {
            "cell_type": "code",
            "execution_count": 100,
            "metadata": {},
            "outputs": [
                {
                    "data": {
                        "text/plain": [
                            "{'Labeled': <bento_meta.objects.Tag object at 0x00000241935A3920>}"
                        ]
                    },
                    "execution_count": 100,
                    "metadata": {},
                    "output_type": "execute_result"
                }
            ],
            "source": [
                "icdc_breed_tags = mdf.model.props[(\"demographic\", \"breed\")].tags\n",
                "icdc_breed_tags"
            ]
        },
        {
            "cell_type": "code",
            "execution_count": 101,
            "metadata": {},
            "outputs": [
                {
                    "data": {
                        "text/plain": [
                            "{'key': 'Labeled', 'value': 'Breed'}"
                        ]
                    },
                    "execution_count": 101,
                    "metadata": {},
                    "output_type": "execute_result"
                }
            ],
            "source": [
                "icdc_breed_tags[\"Labeled\"].get_attr_dict()"
            ]
        },
        {
            "cell_type": "markdown",
            "metadata": {},
            "source": [
                "## Validating the Model\n",
                "\n",
                "As the `MDF` class loads the model, it automatically validates it against the MDF schema and will raise an exception if the model is invalid. This will use the [default schema](https://github.com/CBIIT/bento-mdf/blob/main/schema/mdf-schema.yaml) unless one is provided via the `MDF` class's `mdf_schema` argument.\n",
                "\n",
                "`bento-mdf` also provides the `MDFValidator` class, which can be used to validate a model against the MDF schema directly."
            ]
        },
        {
            "cell_type": "code",
            "execution_count": 102,
            "metadata": {},
            "outputs": [
                {
                    "data": {
                        "text/plain": [
                            "<bento_mdf.validator.MDFValidator at 0x2419313d250>"
                        ]
                    },
                    "execution_count": 102,
                    "metadata": {},
                    "output_type": "execute_result"
                }
            ],
            "source": [
                "from bento_mdf.validator import MDFValidator\n",
                "\n",
                "validator = MDFValidator(\n",
                "    None,\n",
                "    *[ctdc_model, ctdc_props],\n",
                "    raise_error=True,\n",
                ")\n",
                "validator"
            ]
        },
        {
            "cell_type": "code",
            "execution_count": 103,
            "metadata": {},
            "outputs": [
                {
                    "data": {
                        "text/plain": [
                            "{'$schema': 'http://json-schema.org/draft-06/schema#',\n",
                            " '$id': 'https://github.com/CBIIT/bento-mdf/schema/mdf-schema.yaml#',\n",
                            " 'type': 'object',\n",
                            " 'properties': {'Nodes': {'propertyNames': {'$ref': '#/defs/snake_case_id'},\n",
                            "   'additionalProperties': {'$ref': '#/defs/nodeSpec'}},\n",
                            "  'Relationships': {'propertyNames': {'$ref': '#/defs/snake_case_id'},\n",
                            "   'additionalProperties': {'$ref': '#/defs/relnSpec'}},\n",
                            "  'PropDefinitions': {'propertyNames': {'$ref': '#/defs/snake_case_id'},\n",
                            "   'additionalProperties': {'$ref': '#/defs/propSpec'}},\n",
                            "  'Terms': {'propertyNames': {'type': 'string'},\n",
                            "   'additionalProperties': {'$ref': '#/defs/termSpec'}},\n",
                            "  'UniversalNodeProperties': {'type': 'object',\n",
                            "   'properties': {'mustHave': {'desc': 'items are names of properties that every node *must* have;\\nproperties are defined in PropDefinitions\\n',\n",
                            "     'type': 'array',\n",
                            "     'items': {'$ref': '#/defs/snake_case_id'}},\n",
                            "    'mayHave': {'desc': 'items are names of properties that every node *may* have;\\nproperties are defined in PropDefinitions\\n',\n",
                            "     'type': 'array',\n",
                            "     'items': {'$ref': '#/defs/snake_case_id'}}}},\n",
                            "  'UniversalRelationshipProperties': {'type': 'object',\n",
                            "   'properties': {'mustHave': {'desc': 'items are names of properties that every relationship *must* have;\\nproperties are defined in PropDefinitions      \\n',\n",
                            "     'type': 'array',\n",
                            "     'items': {'$ref': '#/defs/snake_case_id'}},\n",
                            "    'mayHave': {'desc': 'items are names of properties that every relationship *may* have;\\nproperties are defined in PropDefinitions      \\n',\n",
                            "     'type': 'array',\n",
                            "     'items': {'$ref': '#/defs/snake_case_id'}}}},\n",
                            "  'Tags': {'$ref': '#/defs/tagsSpec'},\n",
                            "  'Handle': {'type': 'string',\n",
                            "   'desc': 'This is a human-readable short name for the model described in the MDF, that\\nshould also be understood as a token that can be used to extract the model\\nfrom a Metamodel Database\\n'},\n",
                            "  'Version': {'type': 'string',\n",
                            "   'desc': 'This is a human-readable version string (e.g., v1.7.2) for the model described\\nin the MDF. Best practice is to keep it in sync with a git tag for which a\\nGitHub release has been made.\\n'},\n",
                            "  'URI': {'$ref': '#/defs/url',\n",
                            "   'desc': 'If present, this should be a resolving URL that can provide further detailed information\\nabout the model described in the MDF instance. Ideally, it should be the base URL for a\\nterminology server (like the Simple Terminology Server), that can be concatenated with\\npath information in the MDF to return details. Currently, an enumerated value set can\\nbe included \"by reference\" in the MDF, using a path. Joining the URL value and the\\npath value with a backslash should create a url that resolves to a REST GET access of\\nan STS that can return the actual list of enumerated values.\\n'}},\n",
                            " 'required': ['Nodes', 'Relationships'],\n",
                            " 'propertyNames': {'$ref': '#/defs/camelCaseId'},\n",
                            " 'additionalProperties': True,\n",
                            " 'defs': {'snake_case_id': {'$id': '#snake_case_id',\n",
                            "   'type': 'string',\n",
                            "   'pattern': '^[A-Za-z_][A-Za-z0-9_.]*$'},\n",
                            "  'camelCaseId': {'$id': '#camelCaseId',\n",
                            "   'type': 'string',\n",
                            "   'pattern': '^[A-Z][A-Za-z]*$'},\n",
                            "  'fileNameId': {'$id': '#fileNameId',\n",
                            "   'type': 'string',\n",
                            "   'pattern': '^[A-Za-z0-9_-~/.]+\\\\.json|jsn|yml|yaml$'},\n",
                            "  'nanoid': {'$id': '#nanoid',\n",
                            "   'type': 'string',\n",
                            "   'pattern': '^[abcdefghijkmnopqrstuvwxyzABCDEFGHJKMNPQRSTUVWXYZ0123456789]{6}$'},\n",
                            "  'url': {'$id': '#url',\n",
                            "   'type': 'string',\n",
                            "   'pattern': '((([A-Za-z]{3,9}:(?:\\\\/\\\\/)?)(?:[\\\\-;:&=\\\\+\\\\$,\\\\w]+@)?[A-Za-z0-9\\\\.\\\\-]+|(?:www\\\\.|[\\\\-;:&=\\\\+\\\\$,\\\\w]+@)[A-Za-z0-9\\\\.\\\\-]+)((?:\\\\/[\\\\+~%\\\\/\\\\.\\\\w\\\\-_]*)?\\\\??(?:[\\\\-\\\\+=&;%@\\\\.\\\\w_]*)#?(?:[\\\\.\\\\!\\\\/\\\\\\\\\\\\w]*))?)'},\n",
                            "  'path': {'$id': '#path',\n",
                            "   'type': 'string',\n",
                            "   'description': \"The \\\\'path\\\\' is intended to describe a string that can be appended to the\\nbase url of a terminology service endpoint. The expected response from\\nthe server is a simple array of acceptable values as strings (possibly\\nembedded somewhere in a response structure).\\nA path must start with a forward slash. If the base url ends with a forward slash,\\nthe concatenation should replace two consecutive forward slashes with one.\\n\",\n",
                            "   'pattern': '/^[/][A-Za-z0-9_][A-Za-z0-9._-~]*(?:[/&?][A-Za-z0-9_][A-Za-z0-9._-~=%]*)*/'},\n",
                            "  'regex': {'$id': '#regex',\n",
                            "   'type': 'object',\n",
                            "   'properties': {'pattern': {'type': 'string'},\n",
                            "    'flavor': {'description': 'Can tag as JS, Perl, egrep, whatever, here (optional)\\n',\n",
                            "     'type': 'string'}},\n",
                            "   'required': ['pattern']},\n",
                            "  'simpleType': {'description': 'simpleType (a scalar)\\n',\n",
                            "   'type': 'string',\n",
                            "   'enum': ['number',\n",
                            "    'integer',\n",
                            "    'string',\n",
                            "    'datetime',\n",
                            "    'url',\n",
                            "    'boolean',\n",
                            "    'TBD']},\n",
                            "  'enumType': {'type': 'array',\n",
                            "   'description': 'enumType (an array - could be size 1; or a reference to value\\ndomain api)\\n',\n",
                            "   'items': {'oneOf': [{'type': 'string'},\n",
                            "     {'$ref': '#/defs/url'},\n",
                            "     {'$ref': '#/defs/path'}]},\n",
                            "   'uniqueItems': True},\n",
                            "  'numberWithUnits': {'$id': '#numberWithUnits',\n",
                            "   'type': 'object',\n",
                            "   'description': 'numberWithUnits must have a \"value_type\" which is either \"integer\" or\\n\"number\", and a \"units\" property,which can be a singleton array of a simple string (e.g. \"mg\"),\\nor a regex ( \"pattern\" : ^<regexp>$ ), or an enumeration (array of allowed\\nunits strings, or ref to the term server)\\n',\n",
                            "   'properties': {'value_type': {'type': 'string',\n",
                            "     'enum': ['integer', 'number']},\n",
                            "    'units': {'oneOf': [{'type': 'array',\n",
                            "       'items': [{'$ref': '#/defs/regex'}],\n",
                            "       'uniqueItems': True},\n",
                            "      {'$ref': '#/defs/enumType'}]},\n",
                            "    'Tags': {'$ref': '#/defs/tagsSpec'}},\n",
                            "   'required': ['value_type', 'units']},\n",
                            "  'listType': {'$id': '#listType',\n",
                            "   'type': 'object',\n",
                            "   'description': 'listType indicates that such a value should be instantiated as a list or array of\\nscalar values. The type each of the scalar values should take is provided by the\\n\"item_type\" property defined here. The item_type can be any of the scalar types\\ndefined in this schema. A listType of { \"value_type\":\"list\", \"items\": <an enumType> }\\nwould indicate that the data value should consist of an array of strings, each\\nstring coming from the specified enum of acceptable values.\\n',\n",
                            "   'properties': {'value_type': {'const': 'list'},\n",
                            "    'item_type': {'oneOf': [{'$ref': '#/defs/simpleType'},\n",
                            "      {'$ref': '#/defs/enumType'},\n",
                            "      {'$ref': '#/defs/numberWithUnits'}]},\n",
                            "    'Tags': {'$ref': '#/defs/tagsSpec'}},\n",
                            "   'required': ['value_type', 'item_type']},\n",
                            "  'tagsSpec': {'$id': '#tagsSpec',\n",
                            "   'type': 'object',\n",
                            "   'additionalProperties': {'oneOf': [{'type': 'string'},\n",
                            "     {'type': 'number'},\n",
                            "     {'type': 'boolean'}]}},\n",
                            "  'nodeSpec': {'$id': '#nodeSpec',\n",
                            "   'type': 'object',\n",
                            "   'properties': {'Props': {'oneOf': [{'type': 'array',\n",
                            "       'items': {'$ref': '#/defs/snake_case_id'},\n",
                            "       'uniqueItems': True},\n",
                            "      {'type': 'null'}]},\n",
                            "    'Desc': {'description': 'Human-readable description of the node.\\n',\n",
                            "     'type': 'string'},\n",
                            "    'Tags': {'$ref': '#/defs/tagsSpec'},\n",
                            "    'Term': {'description': 'If a Node is representative of an entity or concept in an \\nexternal authority, the terminology, code, and authority\\ncan be noted in this entry.\\nThis field is list-valued - multiple terms may be provided.\\n',\n",
                            "     'type': 'array',\n",
                            "     'items': {'$ref': '#/defs/termSpec'},\n",
                            "     'uniqueItems': True},\n",
                            "    'NanoID': {'$ref': '#/defs/nanoid'}},\n",
                            "   'required': ['Props']},\n",
                            "  'relnSpec': {'$id': '#relnSpec',\n",
                            "   'type': 'object',\n",
                            "   'properties': {'Desc': {'description': 'Human-readable description of the relationship.\\n',\n",
                            "     'type': 'string'},\n",
                            "    'Mul': {'type': 'string',\n",
                            "     'enum': ['one_to_one', 'one_to_many', 'many_to_one', 'many_to_many']},\n",
                            "    'Props': {'oneOf': [{'type': 'array',\n",
                            "       'items': {'$ref': '#/defs/snake_case_id'},\n",
                            "       'uniqueItems': True},\n",
                            "      {'type': 'null'}]},\n",
                            "    'Ends': {'type': 'array',\n",
                            "     'items': {'type': 'object',\n",
                            "      'properties': {'Src': {'$ref': '#/defs/snake_case_id'},\n",
                            "       'Dst': {'$ref': '#/defs/snake_case_id'},\n",
                            "       'Mul': {'type': 'string',\n",
                            "        'enum': ['one_to_one', 'one_to_many', 'many_to_one', 'many_to_many']},\n",
                            "       'Tags': {'$ref': '#/defs/tagsSpec'}},\n",
                            "      'uniqueItems': True,\n",
                            "      'required': ['Src', 'Dst']}},\n",
                            "    'Tags': {'$ref': '#/defs/tagsSpec'},\n",
                            "    'Term': {'description': 'If a Relationship is representative of an entity or concept in an \\nexternal authority, the terminology, code, and authority\\ncan be noted in this entry.\\nThis field is list-valued - multiple terms may be provided.\\n',\n",
                            "     'type': 'array',\n",
                            "     'items': {'$ref': '#/defs/termSpec'},\n",
                            "     'uniqueItems': True},\n",
                            "    'NanoID': {'$ref': '#/defs/nanoid'}},\n",
                            "   'required': ['Props', 'Mul', 'Ends']},\n",
                            "  'propSpec': {'$id': '#propSpec',\n",
                            "   'type': 'object',\n",
                            "   'properties': {'Desc': {'description': 'Human-readable description of the property.\\n',\n",
                            "     'type': 'string'},\n",
                            "    'Src': {'description': 'Source of data values: external submitter, internal curation, or\\nautomatically computed.\\n',\n",
                            "     'type': 'string'},\n",
                            "    'Key': {'description': 'A boolean value. True indicates that the containing property is\\nor can be used as a unique identifier for the containing node\\ninstances. Useful for downstream data applications (database\\nloading, e.g.).\\n'},\n",
                            "    'Nul': {'type': 'boolean',\n",
                            "     'description': 'A boolean value (default False). Whether or not a property can accept\\nnull as a valid value.\\n'},\n",
                            "    'Req': {'description': \"A boolean value (default False or \\\\'No\\\\'). Whether or not data _must_ include a\\nvalue for the property. The value \\\\'Preferred\\\\' indicates that submitters should\\nsubmit data for the property if they have the data.\\n\",\n",
                            "     'oneOf': [{'type': 'boolean'},\n",
                            "      {'type': 'string', 'enum': ['Yes', 'No', 'Preferred']}]},\n",
                            "    'Deprecated': {'description': 'True if this property is being retained for backward compatibility,\\nbut should not be used in new models.\\n',\n",
                            "     'type': 'boolean'},\n",
                            "    'Strict': {'description': \"A boolean value (default True). This attribute is intended as a hint to validation\\ncode. If True, data values should adhere strictly to the Type/Enum specified for\\nthe property. If False, the validation should be \\\\'less strict\\\\', the interpretation\\nof which is use case-dependent. The primary reason for this attribute is to indicate\\nthat validation should not fail on an Enum-valued property when the data value is not\\nfound in the specified Enum. This is useful when the acceptable value list has not\\nbeen solidified in initial development.\\n\",\n",
                            "     'type': 'boolean'},\n",
                            "    'oneOf': [{'Type': {'description': 'Property values can have (1) simple types (number, integer, string\\ndatetime, or --if necessary-- \\\\\\'TBD\\\\\\'; (2) a number_with_units type\\n(e.g., { \\\\\"value_type\\\\\":\\\\\"integer\\\\\", \\\\\"units\\\\\":\\\\\"mm\\\\\" }); (3) a regular\\nexpression that a (string) value must match; (4) an enumeration\\nof acceptable values, or a url or path fragment to an api that will validate against\\nsuch a list.\\n',\n",
                            "       'oneOf': [{'$ref': '#/defs/simpleType'},\n",
                            "        {'$ref': '#/defs/numberWithUnits'},\n",
                            "        {'$ref': '#/defs/regex'},\n",
                            "        {'$ref': '#/defs/url'},\n",
                            "        {'$ref': '#/defs/enumType'},\n",
                            "        {'$ref': '#/defs/listType'}]}},\n",
                            "     {'Enum': {'description': 'Same as Type:[<strings>], defines an enumeration. This keyword is meant to assist\\nreadability. Either one of Type or Enum may be present in a property definition,\\nbut not both.\\n',\n",
                            "       '$ref': '#/defs/enumType'}}],\n",
                            "    'Tags': {'$ref': '#/defs/tagsSpec'},\n",
                            "    'Term': {'description': 'If a Property is representative of an entity or concept in an \\nexternal authority, the terminology, code, and authority\\ncan be noted in this entry.\\nThis field is list-valued - multiple terms may be provided.\\n',\n",
                            "     'type': 'array',\n",
                            "     'items': {'$ref': '#/defs/termSpec'},\n",
                            "     'uniqueItems': True},\n",
                            "    'NanoID': {'$ref': '#/defs/nanoid'}},\n",
                            "   'oneOf': [{'required': ['Type']}, {'required': ['Enum']}]},\n",
                            "  'termSpec': {'$id': '#termSpec',\n",
                            "   'type': 'object',\n",
                            "   'properties': {'Handle': {'description': 'This is a human-readable short name for the Term, that can be but is not\\nnecessarily the Value; it should be understood as a token that can be used\\nto refer to this Term object. In the Terms subsection, the Handle should be\\ninferred from the key assigned to the Term object. For the Term attribute of\\nentities, the Handle may be explictly defined with the Handle key, otherwise\\nthe implicit handle should be identical with the Value.\\n'},\n",
                            "    'Desc': {'description': 'Human-readable, non-normative description of this term.\\n',\n",
                            "     'type': 'string'},\n",
                            "    'Value': {'description': 'The string value used in data representations of the term. Can be, but is not\\nnecessarily, the term \"handle\", i.e. the key for the term in the Terms object.\\nSee Handle key above.\\n',\n",
                            "     'type': 'string'},\n",
                            "    'Origin': {'description': 'A (standardized) abbreviation desiginating the authority, source, or \"coiner\"\\nof the term, reponsible for maintaining its definition and value representation.\\nExample: NCIt for the NCI Thesaurus, DICOM.\\n',\n",
                            "     'type': 'string'},\n",
                            "    'Code': {'description': 'An identifier assigned to the term by the authority given in the Origin field.\\nExamples: NCIt concept code, ontology CURIE, caDSR CDE ID.\\n',\n",
                            "     'type': 'string'},\n",
                            "    'Version': {'description': 'Version of this term according to the authority given in the Origin field.\\n',\n",
                            "     'type': 'string'},\n",
                            "    'Tags': {'$ref': '#/defs/tagsSpec'},\n",
                            "    'Definition': {'description': 'Text definition for the term, ideally as provided by the authority\\ngiven in the Origin field.\\n',\n",
                            "     'type': 'string'},\n",
                            "    'NanoID': {'$ref': '#/defs/nanoid'}},\n",
                            "   'required': ['Value', 'Origin']}}}"
                        ]
                    },
                    "execution_count": 103,
                    "metadata": {},
                    "output_type": "execute_result"
                }
            ],
            "source": [
                "validator.load_and_validate_schema()"
            ]
        },
        {
            "cell_type": "code",
            "execution_count": 104,
            "metadata": {},
            "outputs": [
                {
                    "data": {
                        "text/plain": [
                            "{'Nodes': {'case': {'Term': [{'Value': 'case', 'Origin': 'CTDC'}],\n",
                            "   'Props': ['show_node',\n",
                            "    'case_id',\n",
                            "    'source_id',\n",
                            "    'gender',\n",
                            "    'race',\n",
                            "    'ethnicity',\n",
                            "    'patient_status',\n",
                            "    'current_step',\n",
                            "    'disease',\n",
                            "    'ctep_category',\n",
                            "    'ctep_subcategory',\n",
                            "    'meddra_code',\n",
                            "    'prior_drugs',\n",
                            "    'extent_of_disease',\n",
                            "    'ecog_performance_status']},\n",
                            "  'specimen': {'Props': ['show_node',\n",
                            "    'specimen_id',\n",
                            "    'biopsy_sequence_number',\n",
                            "    'specimen_type']},\n",
                            "  'metastatic_site': {'Props': ['show_node',\n",
                            "    'met_site_id',\n",
                            "    'metastatic_site_name']},\n",
                            "  'nucleic_acid': {'Props': ['show_node',\n",
                            "    'aliquot_id',\n",
                            "    'molecular_sequence_number',\n",
                            "    'nucleic_acid_concentration',\n",
                            "    'nucleic_acid_volume',\n",
                            "    'nucleic_acid_type']},\n",
                            "  'ihc_assay_report': {'Props': ['show_node',\n",
                            "    'ihc_assay_id',\n",
                            "    'ihc_test_gene',\n",
                            "    'ihc_test_result']},\n",
                            "  'sequencing_assay': {'Props': ['show_node',\n",
                            "    'sequencing_assay_id',\n",
                            "    'qc_result',\n",
                            "    'experimental_method',\n",
                            "    'platform']},\n",
                            "  'variant_report': {'Props': ['show_node',\n",
                            "    'variant_report_id',\n",
                            "    'analysis_id',\n",
                            "    'mapd',\n",
                            "    'cellularity',\n",
                            "    'torrent_variant_caller_version',\n",
                            "    'reference_genome']},\n",
                            "  'file': {'Props': ['show_node',\n",
                            "    'file_description',\n",
                            "    'file_format',\n",
                            "    'file_location',\n",
                            "    'file_name',\n",
                            "    'file_size',\n",
                            "    'file_status',\n",
                            "    'file_type',\n",
                            "    'md5sum',\n",
                            "    'uuid']},\n",
                            "  'snv_variant': {'Props': ['show_node',\n",
                            "    'variant_id',\n",
                            "    'external_variant_id',\n",
                            "    'gene',\n",
                            "    'chromosome',\n",
                            "    'exon',\n",
                            "    'position',\n",
                            "    'reference',\n",
                            "    'alternative',\n",
                            "    'transcript_id',\n",
                            "    'transcript_hgvs',\n",
                            "    'genomic_hgvs',\n",
                            "    'oncomine_variant_class',\n",
                            "    'variant_classification',\n",
                            "    'amino_acid_change']},\n",
                            "  'delins_variant': {'Props': ['show_node',\n",
                            "    'variant_id',\n",
                            "    'external_variant_id',\n",
                            "    'gene',\n",
                            "    'chromosome',\n",
                            "    'exon',\n",
                            "    'position',\n",
                            "    'reference',\n",
                            "    'alternative',\n",
                            "    'transcript_id',\n",
                            "    'transcript_hgvs',\n",
                            "    'genomic_hgvs',\n",
                            "    'oncomine_variant_class',\n",
                            "    'variant_classification',\n",
                            "    'amino_acid_change']},\n",
                            "  'indel_variant': {'Props': ['show_node',\n",
                            "    'variant_id',\n",
                            "    'external_variant_id',\n",
                            "    'gene',\n",
                            "    'chromosome',\n",
                            "    'exon',\n",
                            "    'position',\n",
                            "    'reference',\n",
                            "    'alternative',\n",
                            "    'transcript_id',\n",
                            "    'transcript_hgvs',\n",
                            "    'genomic_hgvs',\n",
                            "    'oncomine_variant_class',\n",
                            "    'variant_classification',\n",
                            "    'amino_acid_change']},\n",
                            "  'copy_number_variant': {'Props': ['show_node',\n",
                            "    'variant_id',\n",
                            "    'external_variant_id',\n",
                            "    'gene',\n",
                            "    'chromosome',\n",
                            "    'oncomine_variant_class',\n",
                            "    'tumor_suppressor']},\n",
                            "  'gene_fusion_variant': {'Props': ['show_node',\n",
                            "    'variant_id',\n",
                            "    'external_variant_id',\n",
                            "    'gene1',\n",
                            "    'gene2',\n",
                            "    'oncomine_variant_class']},\n",
                            "  'assignment_report': {'Props': ['show_node',\n",
                            "    'assignment_report_id',\n",
                            "    'analysis_id',\n",
                            "    'step_at_assignment',\n",
                            "    'assignment_logic',\n",
                            "    'assignment_outcome',\n",
                            "    'treatment_outcome']},\n",
                            "  'arm': {'Props': ['show_node',\n",
                            "    'arm_id',\n",
                            "    'arm_target',\n",
                            "    'arm_drug',\n",
                            "    'pubmed_id']},\n",
                            "  'clinical_trial': {'Props': ['show_node',\n",
                            "    'clinical_trial_id',\n",
                            "    'clinical_trial_short_name',\n",
                            "    'clinical_trial_description',\n",
                            "    'clinical_trial_designation',\n",
                            "    'clinical_trial_long_name',\n",
                            "    'clinical_trial_type',\n",
                            "    'lead_organization',\n",
                            "    'principal_investigators']}},\n",
                            " 'Relationships': {'of_case': {'Mul': 'many_to_one',\n",
                            "   'Ends': [{'Src': 'specimen', 'Dst': 'case'}],\n",
                            "   'Props': None},\n",
                            "  'of_specimen': {'Mul': 'many_to_one',\n",
                            "   'Ends': [{'Src': 'ihc_assay_report', 'Dst': 'specimen'},\n",
                            "    {'Src': 'nucleic_acid', 'Dst': 'specimen'},\n",
                            "    {'Src': 'assignment_report', 'Dst': 'specimen'}],\n",
                            "   'Props': None},\n",
                            "  'of_nucleic_acid': {'Mul': 'many_to_one',\n",
                            "   'Ends': [{'Src': 'sequencing_assay', 'Dst': 'nucleic_acid'}],\n",
                            "   'Props': None},\n",
                            "  'of_sequencing_assay': {'Mul': 'many_to_one',\n",
                            "   'Ends': [{'Src': 'file', 'Dst': 'sequencing_assay'},\n",
                            "    {'Src': 'variant_report', 'Dst': 'sequencing_assay'}],\n",
                            "   'Props': None},\n",
                            "  'snv_variant_of': {'Mul': 'many_to_many',\n",
                            "   'Ends': [{'Src': 'snv_variant', 'Dst': 'variant_report'}],\n",
                            "   'Props': ['allele_frequency']},\n",
                            "  'delins_variant_of': {'Mul': 'many_to_many',\n",
                            "   'Ends': [{'Src': 'delins_variant', 'Dst': 'variant_report'}],\n",
                            "   'Props': ['allele_frequency']},\n",
                            "  'indel_variant_of': {'Mul': 'many_to_many',\n",
                            "   'Ends': [{'Src': 'indel_variant', 'Dst': 'variant_report'}],\n",
                            "   'Props': ['allele_frequency']},\n",
                            "  'copy_number_variant_of': {'Mul': 'many_to_many',\n",
                            "   'Ends': [{'Src': 'copy_number_variant', 'Dst': 'variant_report'}],\n",
                            "   'Props': ['copy_number', 'copy_number_ci_5', 'copy_number_ci_95']},\n",
                            "  'gene_fusion_variant_of': {'Mul': 'many_to_many',\n",
                            "   'Ends': [{'Src': 'gene_fusion_variant', 'Dst': 'variant_report'}],\n",
                            "   'Props': ['gene1_read_count', 'gene2_read_count']},\n",
                            "  'of_variant_report': {'Mul': 'many_to_one',\n",
                            "   'Ends': [{'Src': 'assignment_report', 'Dst': 'variant_report'}],\n",
                            "   'Props': None},\n",
                            "  'of_arm': {'Mul': 'many_to_many',\n",
                            "   'Ends': [{'Src': 'assignment_report', 'Dst': 'arm'},\n",
                            "    {'Src': 'case', 'Dst': 'arm'}],\n",
                            "   'Props': None},\n",
                            "  'of_trial': {'Mul': 'many_to_one',\n",
                            "   'Ends': [{'Src': 'arm', 'Dst': 'clinical_trial'}],\n",
                            "   'Props': None},\n",
                            "  'met_site_of': {'Mul': 'many_to_many',\n",
                            "   'Ends': [{'Src': 'metastatic_site', 'Dst': 'case'}],\n",
                            "   'Props': None}},\n",
                            " 'PropDefinitions': {'case.show_node': {'Desc': 'A settable node property that flags a node, and its children as queryable.',\n",
                            "   'Src': 'NA',\n",
                            "   'Type': 'boolean',\n",
                            "   'Req': True,\n",
                            "   'Private': True},\n",
                            "  'show_node': {'Desc': 'A settable node property that flags a node, and its children as queryable.',\n",
                            "   'Src': 'NA',\n",
                            "   'Type': 'boolean',\n",
                            "   'Req': True,\n",
                            "   'Private': True},\n",
                            "  'case_id': {'Desc': 'A unique numerical identifier assigned to each patient by CTDC.',\n",
                            "   'Src': 'NA',\n",
                            "   'Type': 'string',\n",
                            "   'Req': True,\n",
                            "   'Private': False},\n",
                            "  'source_id': {'Desc': 'A unique identifier assigned by source project',\n",
                            "   'Src': 'patientSequenceNumber',\n",
                            "   'Type': 'string',\n",
                            "   'Req': False,\n",
                            "   'Private': True},\n",
                            "  'gender': {'Desc': 'Gender of patient',\n",
                            "   'Src': 'gender',\n",
                            "   'Type': ['MALE', 'FEMALE', 'UNKNOWN'],\n",
                            "   'Req': True,\n",
                            "   'Private': False},\n",
                            "  'race': {'Desc': 'Race of patient',\n",
                            "   'Src': 'races',\n",
                            "   'Type': ['AMERICAN_INDIAN_OR_ALASKA_NATIVE',\n",
                            "    'ASIAN',\n",
                            "    'BLACK_OR_AFRICAN_AMERICAN',\n",
                            "    'NATIVE_HAWAIIAN_OR_OTHER_PACIFIC_ISLANDER',\n",
                            "    'NOT_REPORTED',\n",
                            "    'UNKNOWN',\n",
                            "    'WHITE'],\n",
                            "   'Req': True,\n",
                            "   'Private': False},\n",
                            "  'ethnicity': {'Desc': 'Ethnicity of patient',\n",
                            "   'Src': 'ethnicity',\n",
                            "   'Type': ['HISPANIC_OR_LATINO', 'NOT_HISPANIC_OR_LATINO', 'UNKNOWN'],\n",
                            "   'Req': True,\n",
                            "   'Private': False},\n",
                            "  'patient_status': {'Desc': 'Status of patient within the MATCH workflow',\n",
                            "   'Src': 'currentPatientStatus',\n",
                            "   'Type': ['COMPASSIONATE_CARE',\n",
                            "    'OFF_TRIAL',\n",
                            "    'OFF_TRIAL_BIOPSY_EXPIRED',\n",
                            "    'OFF_TRIAL_DECEASED',\n",
                            "    'OFF_TRIAL_NOT_CONSENTED',\n",
                            "    'OFF_TRIAL_NO_TA_AVAILABLE',\n",
                            "    'OFF_TRIAL_REGISTRATION_ERROR',\n",
                            "    'ON_TREATMENT_ARM',\n",
                            "    'PENDING_APPROVAL',\n",
                            "    'PENDING_CONFIRMATION',\n",
                            "    'PTEN_ORDER_REQUESTED',\n",
                            "    'REGISTRATION',\n",
                            "    'REGISTRATION_OUTSIDE_ASSAY'],\n",
                            "   'Req': True,\n",
                            "   'Private': False},\n",
                            "  'current_step': {'Desc': 'The MATCH workflow is divided broadly into steps. Step 0 starts with patient registration and ends with the the sign-out of the first assignment report. If the patient is assigned to a treatment arm s/he moves to step 1. If patient progresses during treatment, s/he is assigned to step 2. Current step denotes the step in the workflow the patient is currently at.',\n",
                            "   'Src': 'currentStepNumber',\n",
                            "   'Type': 'integer',\n",
                            "   'Req': True,\n",
                            "   'Private': False,\n",
                            "   'minimum': 0},\n",
                            "  'disease': {'Desc': 'Disease condition diagnosed in study patient.',\n",
                            "   'Src': 'diseases',\n",
                            "   'Type': 'string',\n",
                            "   'Req': True,\n",
                            "   'Private': False},\n",
                            "  'ctep_category': {'Desc': \"The patient's disease diagnosis described according to the CTEP Simplified Disease Classification.\",\n",
                            "   'Src': 'ctepCategory',\n",
                            "   'Type': 'string',\n",
                            "   'Req': False,\n",
                            "   'Private': False},\n",
                            "  'ctep_subcategory': {'Desc': \"A more granular mapping of the patient's disease diagnosis to the CTEP Simplified Disease Classification.\",\n",
                            "   'Src': 'ctepSubCategory',\n",
                            "   'Type': 'string',\n",
                            "   'Req': False,\n",
                            "   'Private': False},\n",
                            "  'meddra_code': {'Desc': \"MedDRA code that is assigned to patient's disease diagnosis and that maps to the CTEP subcategory.\",\n",
                            "   'Src': 'diseases->_id',\n",
                            "   'Type': 'string',\n",
                            "   'Req': False,\n",
                            "   'Private': False},\n",
                            "  'prior_drugs': {'Desc': 'A list of drugs prescribed to patient prior to study registration.',\n",
                            "   'Src': 'priorDrugs',\n",
                            "   'Type': 'string',\n",
                            "   'Req': False,\n",
                            "   'Private': False},\n",
                            "  'extent_of_disease': {'Desc': 'Extent of disease at study entry.',\n",
                            "   'Src': '(ECOG-ACRIN) extnt_dz',\n",
                            "   'Type': ['Locally advanced', 'Metastatic', 'Recurrent'],\n",
                            "   'Req': False,\n",
                            "   'Private': False},\n",
                            "  'ecog_performance_status': {'Desc': 'ECOG Performance Status at study entry (integer values 0 to 5 – only 0 and 1 are eligible).',\n",
                            "   'Src': '(ECOG-ACRIN) ps',\n",
                            "   'Type': 'integer',\n",
                            "   'Req': False,\n",
                            "   'Private': False,\n",
                            "   'minimum': 0,\n",
                            "   'maximum': 5},\n",
                            "  'specimen_id': {'Desc': 'A unique identifier assigned to each MATCH specimen by CTDC.',\n",
                            "   'Src': 'NA',\n",
                            "   'Type': 'string',\n",
                            "   'Req': True,\n",
                            "   'Private': False},\n",
                            "  'biopsy_sequence_number': {'Desc': 'A unique identifier assigned to the tumor biopsy assigned by source project.',\n",
                            "   'Src': 'biopsySequenceNumber',\n",
                            "   'Type': 'string',\n",
                            "   'Req': True,\n",
                            "   'Private': True},\n",
                            "  'specimen_type': {'Desc': 'Biopsy type.',\n",
                            "   'Src': 'NA',\n",
                            "   'Type': ['Tumor', 'Normal', 'Unknown'],\n",
                            "   'Req': True,\n",
                            "   'Private': False},\n",
                            "  'met_site_id': {'Desc': 'A unique identifier assigned to a metastatic site  by CTDC.',\n",
                            "   'Src': 'NA',\n",
                            "   'Type': 'string',\n",
                            "   'Req': True,\n",
                            "   'Private': False},\n",
                            "  'metastatic_site_name': {'Desc': 'Metastatic site at study entry.',\n",
                            "   'Src': '(ECOG-ACRIN) met_(site_name)',\n",
                            "   'Type': ['Bone Marrow',\n",
                            "    'Bone',\n",
                            "    'Lung',\n",
                            "    'Pleura',\n",
                            "    'Liver',\n",
                            "    'Kidney',\n",
                            "    'Stomach',\n",
                            "    'Small intestine',\n",
                            "    'Large intestine',\n",
                            "    'Skin',\n",
                            "    'Orbit',\n",
                            "    'Conjunctiva',\n",
                            "    'Parotid',\n",
                            "    'Submandibular',\n",
                            "    'Testicle',\n",
                            "    'Epidural',\n",
                            "    'CNS-Brain',\n",
                            "    'CNS-Leptom',\n",
                            "    'Pericardium',\n",
                            "    'Lymph Nodes',\n",
                            "    'Adrenals',\n",
                            "    'Other'],\n",
                            "   'Req': True,\n",
                            "   'Private': False},\n",
                            "  'aliquot_id': {'Desc': \"A unique identifer assigned to an aliquot of nucleic acid, prepared from a patient's tumor biopsy, by CTDC.\",\n",
                            "   'Src': 'NA',\n",
                            "   'Type': 'string',\n",
                            "   'Req': True,\n",
                            "   'Private': False},\n",
                            "  'molecular_sequence_number': {'Desc': \"A unique identifer assigned to an aliquot of nucleic acid, prepared from a patient's tumor biopsy, by the source project.\",\n",
                            "   'Src': 'molecularSequenceNumber',\n",
                            "   'Type': 'string',\n",
                            "   'Req': True,\n",
                            "   'Private': True},\n",
                            "  'nucleic_acid_concentration': {'Desc': 'Nucleic acid concentration of aliquot expressed in nanograms per microliter.',\n",
                            "   'Src': 'dnaConcentration',\n",
                            "   'Type': 'number',\n",
                            "   'Req': True,\n",
                            "   'Private': False,\n",
                            "   'exclusiveMinimum': 0},\n",
                            "  'nucleic_acid_volume': {'Desc': 'Aliquot volume expressed as microliters.',\n",
                            "   'Src': 'dnaVolume',\n",
                            "   'Type': 'number',\n",
                            "   'Req': True,\n",
                            "   'Private': False,\n",
                            "   'exclusiveMinimum': 0},\n",
                            "  'nucleic_acid_type': {'Desc': 'Nucleic acid type of extract.',\n",
                            "   'Src': 'NA',\n",
                            "   'Type': ['DNA', 'RNA', 'Pooled DNA/cDNA', 'Unknown'],\n",
                            "   'Req': True,\n",
                            "   'Private': False},\n",
                            "  'ihc_assay_id': {'Desc': 'A unique identifier assigned to each IHC assay report by CTDC.',\n",
                            "   'Src': 'NA',\n",
                            "   'Type': 'string',\n",
                            "   'Req': True,\n",
                            "   'Private': False},\n",
                            "  'ihc_test_gene': {'Desc': 'Gene symbol of gene being assayed for expression by an immunohistochemistry (IHC) test.',\n",
                            "   'Src': 'biomarker',\n",
                            "   'Type': ['PTEN', 'RB', 'MLH1', 'MSH2'],\n",
                            "   'Req': True,\n",
                            "   'Private': False},\n",
                            "  'ihc_test_result': {'Desc': 'The result of the IHC test performed on gene.',\n",
                            "   'Src': 'result',\n",
                            "   'Type': ['EXPRESSED', 'LOST', 'INDETERMINATE', 'UNKNOWN'],\n",
                            "   'Req': True,\n",
                            "   'Private': False},\n",
                            "  'sequencing_assay_id': {'Desc': 'A unique identifier assigned to each MATCH sequencing assay report by CTDC.',\n",
                            "   'Src': 'NA',\n",
                            "   'Type': 'string',\n",
                            "   'Req': True,\n",
                            "   'Private': True},\n",
                            "  'qc_result': {'Desc': 'Sequencing QC result.',\n",
                            "   'Src': 'Generated through API call',\n",
                            "   'Type': 'string',\n",
                            "   'Req': False,\n",
                            "   'Private': False},\n",
                            "  'experimental_method': {'Desc': 'The method or protocol used to perform the sequencing assay. Possible values include-  Targeted NGS (sequencing of selected regions of the genome either via targeted capture or amplification); WGS (whole genome sequencing); WXS (whole exome sequencing); RNA-seq  (transcriptome sequencing); miRNA-Seq (microRNA sequencing); ncRNA-Seq (sequencing of non-coding RNA); ssRNA-seq (strand-specific RNA sequencing); ATAC-seq (assay for Transposase-Accessible Chromatin (ATAC) strategy is used to study genome-wide chromatin accessibility); ChIP-Seq (chromatin ImmunoPrecipitation, reveals binding sites of specific proteins, typically transcription factors using antibodies to extract DNA fragments bound to the target protein); DNase-Hypersensitivity (sequencing of hypersensitive sites, or segments of open chromatin that are more readily cleaved by DNaseI); Bisulfite-Seq (sequencing following treatment of DNA with bisulfite to convert cytosine residues to uracil); ChIA-PET (Direct sequencing of proximity-ligated chromatin immunoprecipitates).',\n",
                            "   'Src': 'NA',\n",
                            "   'Type': 'string',\n",
                            "   'Req': True,\n",
                            "   'Private': False},\n",
                            "  'platform': {'Desc': 'The technology platform used to perform the sequencing assay.',\n",
                            "   'Src': 'NA',\n",
                            "   'Type': 'string',\n",
                            "   'Req': True,\n",
                            "   'Private': False},\n",
                            "  'variant_report_id': {'Desc': 'A unique identifier assigned to each variant report by CTDC.',\n",
                            "   'Src': 'NA',\n",
                            "   'Type': 'string',\n",
                            "   'Req': True,\n",
                            "   'Private': False},\n",
                            "  'analysis_id': {'Desc': 'A unique identifier assigned to each variant report by source project.',\n",
                            "   'Src': 'jobName',\n",
                            "   'Type': 'string',\n",
                            "   'Req': True,\n",
                            "   'Private': True},\n",
                            "  'mapd': {'Desc': 'Median Absolute Percentage Deviation (MAPD) is a measure of the accuracy of the copy number calls made by the copy number variant pipeline.',\n",
                            "   'Src': 'mapd',\n",
                            "   'Type': 'number',\n",
                            "   'Req': False,\n",
                            "   'Private': False,\n",
                            "   'exclusiveMinimum': 0,\n",
                            "   'maximum': 0.5},\n",
                            "  'cellularity': {'Desc': 'The fraction of biopsy specimen estimated to be comprised of tumor cells.',\n",
                            "   'Src': 'cellularity',\n",
                            "   'Type': 'number',\n",
                            "   'Req': False,\n",
                            "   'Private': False,\n",
                            "   'exclusiveMinimum': 0},\n",
                            "  'torrent_variant_caller_version': {'Desc': 'The version of the variant calling pipeline from Ion Torrent that was used to identify variants in variant report.',\n",
                            "   'Src': 'tvc_version',\n",
                            "   'Type': 'string',\n",
                            "   'Req': False,\n",
                            "   'Private': False},\n",
                            "  'reference_genome': {'Desc': 'The reference assembly (Hg19, GRCh37, GRCh38) used to align reads from sequencing assay.',\n",
                            "   'Src': 'NA',\n",
                            "   'Type': 'string',\n",
                            "   'Req': True,\n",
                            "   'Private': False},\n",
                            "  'file_description': {'Desc': 'Optional description of the file and its content.',\n",
                            "   'Src': 'NA',\n",
                            "   'Type': 'string',\n",
                            "   'Req': False,\n",
                            "   'Private': False},\n",
                            "  'file_format': {'Desc': 'The specific format of the file as derived by the loader.',\n",
                            "   'Src': 'NA',\n",
                            "   'Type': 'string',\n",
                            "   'Req': True,\n",
                            "   'Private': False},\n",
                            "  'file_location': {'Desc': 'S3 bucket location of file in CTDC.',\n",
                            "   'Src': 'NA',\n",
                            "   'Type': 'string',\n",
                            "   'Req': True,\n",
                            "   'Private': False},\n",
                            "  'file_name': {'Desc': 'File name as assigned by parent project.',\n",
                            "   'Src': 'NA',\n",
                            "   'Type': 'string',\n",
                            "   'Req': True,\n",
                            "   'Private': False},\n",
                            "  'file_size': {'Desc': 'Size of the file as derived by the loader.',\n",
                            "   'Src': 'NA',\n",
                            "   'Type': 'number',\n",
                            "   'Req': True,\n",
                            "   'Private': False},\n",
                            "  'file_status': {'Desc': 'Enumerated representation of the status of files.',\n",
                            "   'Src': 'NA',\n",
                            "   'Type': ['uploading',\n",
                            "    'uploaded',\n",
                            "    'md5summing',\n",
                            "    'md5summed',\n",
                            "    'validating',\n",
                            "    'error',\n",
                            "    'invalid',\n",
                            "    'suppressed',\n",
                            "    'redacted',\n",
                            "    'live',\n",
                            "    'validated',\n",
                            "    'submitted',\n",
                            "    'released'],\n",
                            "   'Req': True,\n",
                            "   'Private': False},\n",
                            "  'file_type': {'Desc': 'Indicator as to the nature of the file in terms of its content.',\n",
                            "   'Src': 'NA',\n",
                            "   'Type': ['Raw reads file',\n",
                            "    'Aligned DNA reads file',\n",
                            "    'Aligned RNA reads file',\n",
                            "    'Index file',\n",
                            "    'Variants file'],\n",
                            "   'Req': True,\n",
                            "   'Private': False},\n",
                            "  'md5sum': {'Desc': 'Md5 checksum.',\n",
                            "   'Src': 'NA',\n",
                            "   'Type': 'string',\n",
                            "   'Req': True,\n",
                            "   'Private': False},\n",
                            "  'uuid': {'Desc': 'A unique id assigned by CTDC.',\n",
                            "   'Src': 'NA',\n",
                            "   'Type': 'string',\n",
                            "   'Req': True,\n",
                            "   'Private': False},\n",
                            "  'variant_id': {'Desc': 'A unique identifier assigned to each variant by CTDC.',\n",
                            "   'Src': 'NA',\n",
                            "   'Type': 'string',\n",
                            "   'Req': True,\n",
                            "   'Private': False},\n",
                            "  'external_variant_id': {'Desc': 'The COSMIC ID of variant, if available, or another source project assigned ID.',\n",
                            "   'Src': 'identifier',\n",
                            "   'Type': 'string',\n",
                            "   'Req': False,\n",
                            "   'Private': False},\n",
                            "  'gene': {'Desc': 'Gene symbol of gene that has been identified as having a variant number of copies.',\n",
                            "   'Src': 'gene',\n",
                            "   'Type': 'string',\n",
                            "   'Req': True,\n",
                            "   'Private': False},\n",
                            "  'chromosome': {'Desc': 'The chromosome that encodes variant gene.',\n",
                            "   'Src': 'chromosome',\n",
                            "   'Type': ['chr1',\n",
                            "    'chr2',\n",
                            "    'chr3',\n",
                            "    'chr4',\n",
                            "    'chr5',\n",
                            "    'chr6',\n",
                            "    'chr7',\n",
                            "    'chr8',\n",
                            "    'chr9',\n",
                            "    'chr10',\n",
                            "    'chr11',\n",
                            "    'chr12',\n",
                            "    'chr13',\n",
                            "    'chr14',\n",
                            "    'chr15',\n",
                            "    'chr16',\n",
                            "    'chr17',\n",
                            "    'chr18',\n",
                            "    'chr19',\n",
                            "    'chr20',\n",
                            "    'chr21',\n",
                            "    'chr22',\n",
                            "    'chrX',\n",
                            "    'chrY'],\n",
                            "   'Req': True,\n",
                            "   'Private': False},\n",
                            "  'exon': {'Desc': 'The exon that encodes the variant nucleotide position.',\n",
                            "   'Src': 'exon',\n",
                            "   'Type': 'integer',\n",
                            "   'Req': True,\n",
                            "   'Private': False,\n",
                            "   'exclusiveMinimum': 0},\n",
                            "  'position': {'Desc': 'The chromosomal location of nucleotide variant on the positive strand.',\n",
                            "   'Src': 'position',\n",
                            "   'Type': 'integer',\n",
                            "   'Req': True,\n",
                            "   'Private': False,\n",
                            "   'exclusiveMinimum': 0},\n",
                            "  'reference': {'Desc': 'Reference allele at variant position.',\n",
                            "   'Src': 'reference',\n",
                            "   'Type': 'string',\n",
                            "   'Req': True,\n",
                            "   'Private': False},\n",
                            "  'alternative': {'Desc': 'Alternative nucelotide identified at variant position.',\n",
                            "   'Src': 'alternative',\n",
                            "   'Type': 'string',\n",
                            "   'Req': True,\n",
                            "   'Private': False},\n",
                            "  'transcript_id': {'Desc': 'NCBI Identifier of the transcript isoform chosen for reporting the variant.',\n",
                            "   'Src': 'transcript',\n",
                            "   'Type': 'string',\n",
                            "   'Req': True,\n",
                            "   'Private': False},\n",
                            "  'transcript_hgvs': {'Desc': 'The transcript level change annotated in the HGVS format.',\n",
                            "   'Src': 'hgvs',\n",
                            "   'Type': 'string',\n",
                            "   'Req': False,\n",
                            "   'Private': False},\n",
                            "  'genomic_hgvs': {'Desc': 'The genomic change annotated in the HGVS format.',\n",
                            "   'Src': 'genomicHgvs',\n",
                            "   'Type': 'string',\n",
                            "   'Req': False,\n",
                            "   'Private': False},\n",
                            "  'oncomine_variant_class': {'Desc': 'Variant classification label assigned by the variant calling workflow of the Ion Reporter Software.',\n",
                            "   'Src': 'oncominevariantclass',\n",
                            "   'Type': ['Amplification', 'Deletion', 'Deleterious', 'Hotspot', 'Fusion'],\n",
                            "   'Req': False,\n",
                            "   'Private': False},\n",
                            "  'variant_classification': {'Desc': 'Variant classification based on the effect of genomic change.',\n",
                            "   'Src': 'function',\n",
                            "   'Type': 'string',\n",
                            "   'Req': True,\n",
                            "   'Private': False},\n",
                            "  'amino_acid_change': {'Desc': 'The amino acid change resulting from the nucleotide-level change.',\n",
                            "   'Src': 'protein',\n",
                            "   'Type': 'string',\n",
                            "   'Req': True,\n",
                            "   'Private': False},\n",
                            "  'tumor_suppressor': {'Desc': 'A flag that indicates if variant gene is a tumor suppressor.',\n",
                            "   'Src': 'cancerGeneType',\n",
                            "   'Type': 'boolean',\n",
                            "   'Req': False,\n",
                            "   'Private': False},\n",
                            "  'gene1': {'Desc': 'Gene symbol of upstream partner of a fusion variant.',\n",
                            "   'Src': 'partnerGene',\n",
                            "   'Type': 'string',\n",
                            "   'Req': True,\n",
                            "   'Private': False},\n",
                            "  'gene2': {'Desc': 'Gene symbol of downstream partner of a fusion variant.',\n",
                            "   'Src': 'driverGene',\n",
                            "   'Type': 'string',\n",
                            "   'Req': True,\n",
                            "   'Private': False},\n",
                            "  'assignment_report_id': {'Desc': 'A unique identifier assigned to each assignment report by CTDC.',\n",
                            "   'Src': 'NA',\n",
                            "   'Type': 'string',\n",
                            "   'Req': True,\n",
                            "   'Private': False},\n",
                            "  'step_at_assignment': {'Desc': 'The step in the MATCH workflow at which patient has been assigned to treatment arm.',\n",
                            "   'Src': 'patientAssignments->stepNumber',\n",
                            "   'Type': 'integer',\n",
                            "   'Req': False,\n",
                            "   'Private': False,\n",
                            "   'minimum': 0},\n",
                            "  'assignment_logic': {'Desc': 'The rationale for assigning treatment arm.',\n",
                            "   'Src': 'patientAssignmentLogic',\n",
                            "   'Type': 'string',\n",
                            "   'Req': False,\n",
                            "   'Private': False},\n",
                            "  'assignment_outcome': {'Desc': 'A status describing outcome of assigning patient to treatment arm.',\n",
                            "   'Src': 'assignmentStatusOutcome',\n",
                            "   'Type': ['COMPASSIONATE_CARE',\n",
                            "    'FORMERLY_ON_ARM_DECEASED',\n",
                            "    'FORMERLY_ON_ARM_OFF_TRIAL',\n",
                            "    'FORMERLY_ON_ARM_PROGRESSED',\n",
                            "    'NOT_ELIGIBLE',\n",
                            "    'OFF_TRIAL',\n",
                            "    'OFF_TRIAL_DECEASED',\n",
                            "    'OFF_TRIAL_NO_TA_AVAILABLE',\n",
                            "    'OFF_TRIAL_NOT_CONSENTED',\n",
                            "    'ON_TREATMENT_ARM',\n",
                            "    'PENDING_APPROVAL',\n",
                            "    'PENDING_CONFIRMATION'],\n",
                            "   'Req': True,\n",
                            "   'Private': False},\n",
                            "  'treatment_outcome': {'Desc': 'Best Confirmed Response.',\n",
                            "   'Src': '(ECOG)best_conf_resp',\n",
                            "   'Type': ['Complete response',\n",
                            "    'Partial response',\n",
                            "    'Stable disease',\n",
                            "    'Progressive disease',\n",
                            "    'Not evaluable'],\n",
                            "   'Req': False,\n",
                            "   'Private': False},\n",
                            "  'arm_id': {'Desc': 'A unique identifier assigned to a study arm.',\n",
                            "   'Src': 'NA',\n",
                            "   'Type': ['A',\n",
                            "    'C2',\n",
                            "    'E',\n",
                            "    'L',\n",
                            "    'T',\n",
                            "    'V',\n",
                            "    'Z1E',\n",
                            "    'Z1G',\n",
                            "    'Z1H',\n",
                            "    'Z1K',\n",
                            "    'Z1L',\n",
                            "    'Z1J',\n",
                            "    'Z1M',\n",
                            "    'C1',\n",
                            "    'J',\n",
                            "    'K1',\n",
                            "    'K2',\n",
                            "    'M',\n",
                            "    'Z1C',\n",
                            "    'Z1F',\n",
                            "    'F',\n",
                            "    'G',\n",
                            "    'H',\n",
                            "    'R',\n",
                            "    'U',\n",
                            "    'S1',\n",
                            "    'S2',\n",
                            "    'X',\n",
                            "    'Z1A',\n",
                            "    'B',\n",
                            "    'Z1B',\n",
                            "    'Z1D',\n",
                            "    'Z1I',\n",
                            "    'I',\n",
                            "    'N',\n",
                            "    'P',\n",
                            "    'Q',\n",
                            "    'W',\n",
                            "    'Y'],\n",
                            "   'Req': True,\n",
                            "   'Private': False},\n",
                            "  'arm_target': {'Desc': 'A concise description of genomic aberrations being targeted by study arm.',\n",
                            "   'Src': 'NA',\n",
                            "   'Type': 'string',\n",
                            "   'Req': True,\n",
                            "   'Private': False},\n",
                            "  'arm_drug': {'Desc': 'The therapeutic agent being tested against the target genomic aberrations.',\n",
                            "   'Src': 'NA',\n",
                            "   'Type': 'string',\n",
                            "   'Req': True,\n",
                            "   'Private': False},\n",
                            "  'pubmed_id': {'Desc': 'PubMed ID of the primary publication associated with study arm.',\n",
                            "   'Src': 'NA',\n",
                            "   'Type': 'string',\n",
                            "   'Req': False,\n",
                            "   'Private': False},\n",
                            "  'clinical_trial_id': {'Desc': 'The Trial ID assigned to trial by ClinicalTrials.gov.',\n",
                            "   'Src': 'study_id',\n",
                            "   'Type': 'string',\n",
                            "   'Req': True,\n",
                            "   'Private': False},\n",
                            "  'clinical_trial_short_name': {'Desc': 'An abbreviated title of the clinical trial eg. Molecular Analysis for Therapy Choice',\n",
                            "   'Src': 'study_name',\n",
                            "   'Type': 'string',\n",
                            "   'Req': True,\n",
                            "   'Private': False},\n",
                            "  'clinical_trial_description': {'Desc': 'A brief description of clinical study.',\n",
                            "   'Src': 'NA',\n",
                            "   'Type': 'string',\n",
                            "   'Req': True,\n",
                            "   'Private': False},\n",
                            "  'clinical_trial_designation': {'Desc': 'A concise name for clinical study eg. MATCH',\n",
                            "   'Src': 'NA',\n",
                            "   'Type': 'string',\n",
                            "   'Req': True,\n",
                            "   'Private': False},\n",
                            "  'clinical_trial_long_name': {'Desc': 'The complete name of the clinical trial, eg. Targeted Therapy Directed by Genetic Testing in Treating Patients with Advanced Refractory Solid Tumors, Lymphomas, or Multiple Myeloma (The MATCH Screening Trial).',\n",
                            "   'Src': 'NA',\n",
                            "   'Type': 'string',\n",
                            "   'Req': True,\n",
                            "   'Private': False},\n",
                            "  'clinical_trial_type': {'Desc': 'Clinical trial type',\n",
                            "   'Src': 'NA',\n",
                            "   'Type': 'string',\n",
                            "   'Req': True,\n",
                            "   'Private': False},\n",
                            "  'lead_organization': {'Desc': 'Lead Organization',\n",
                            "   'Src': 'NA',\n",
                            "   'Type': 'string',\n",
                            "   'Req': True,\n",
                            "   'Private': False},\n",
                            "  'principal_investigators': {'Desc': 'Principal Investigators',\n",
                            "   'Src': 'NA',\n",
                            "   'Type': 'string',\n",
                            "   'Req': True,\n",
                            "   'Private': False},\n",
                            "  'allele_frequency': {'Desc': 'Frequency of alternative nucleotide as determined by number of reads carrying alternative nucleotide as a fraction of total number of reads mapping to variant position.',\n",
                            "   'Src': 'alleleFrequency',\n",
                            "   'Type': 'number',\n",
                            "   'Req': True,\n",
                            "   'Private': False,\n",
                            "   'exclusiveMinimum': 0,\n",
                            "   'maximum': 1},\n",
                            "  'copy_number': {'Desc': 'The estimated number of copies for the copy number variant gene.',\n",
                            "   'Src': 'copyNumber',\n",
                            "   'Type': 'number',\n",
                            "   'Req': True,\n",
                            "   'Private': False,\n",
                            "   'minimum': 0},\n",
                            "  'copy_number_ci_5': {'Desc': 'The lower limit of the 95% confidence interval for the estimated copy number.',\n",
                            "   'Src': 'confidenceInterval5percent',\n",
                            "   'Type': 'number',\n",
                            "   'Req': True,\n",
                            "   'Private': False,\n",
                            "   'minimum': 0},\n",
                            "  'copy_number_ci_95': {'Desc': 'The upper limit of the 95% confidence interval for the estimated copy number.',\n",
                            "   'Src': 'confidenceInterval95percent',\n",
                            "   'Type': 'number',\n",
                            "   'Req': True,\n",
                            "   'Private': False,\n",
                            "   'minimum': 0},\n",
                            "  'gene1_read_count': {'Desc': 'Number of reads mapping to the upstream gene partner.',\n",
                            "   'Src': 'partnerReadCount',\n",
                            "   'Type': 'integer',\n",
                            "   'Req': True,\n",
                            "   'Private': False,\n",
                            "   'exclusiveMinimum': 0},\n",
                            "  'gene2_read_count': {'Desc': 'Number of reads mapping to the downstream gene partner.',\n",
                            "   'Src': 'driverReadCount',\n",
                            "   'Type': 'integer',\n",
                            "   'Req': True,\n",
                            "   'Private': False,\n",
                            "   'exclusiveMinimum': 0}}}"
                        ]
                    },
                    "execution_count": 104,
                    "metadata": {},
                    "output_type": "execute_result"
                }
            ],
            "source": [
                "validator.load_and_validate_yaml().as_dict()"
            ]
        },
        {
            "cell_type": "markdown",
            "metadata": {},
            "source": [
                "If the schema or yaml instances (from MDF files) are invalid, the validation will fail."
            ]
        },
        {
            "cell_type": "code",
            "execution_count": 105,
            "metadata": {},
            "outputs": [],
            "source": [
                "from jsonschema import SchemaError, ValidationError\n",
                "from yaml.parser import ParserError\n",
                "from IPython.display import clear_output"
            ]
        },
        {
            "cell_type": "markdown",
            "metadata": {},
            "source": [
                "#### Schema is invalid"
            ]
        },
        {
            "cell_type": "code",
            "execution_count": 106,
            "metadata": {},
            "outputs": [
                {
                    "name": "stdout",
                    "output_type": "stream",
                    "text": [
                        "'crobject' is not valid under any of the given schemas\n",
                        "\n",
                        "Failed validating 'anyOf' in metaschema['properties']['properties']['additionalProperties']['properties']['type']:\n",
                        "    {'anyOf': [{'$ref': '#/definitions/simpleTypes'},\n",
                        "               {'type': 'array',\n",
                        "                'items': {'$ref': '#/definitions/simpleTypes'},\n",
                        "                'minItems': 1,\n",
                        "                'uniqueItems': True}]}\n",
                        "\n",
                        "On schema['properties']['UniversalNodeProperties']['type']:\n",
                        "    'crobject'\n"
                    ]
                }
            ],
            "source": [
                "bad_schema = mdf_dir / \"mdf-bad-schema.yaml\"\n",
                "\n",
                "try:\n",
                "    MDFValidator(bad_schema, raise_error=True).load_and_validate_schema()\n",
                "except SchemaError as e:\n",
                "    clear_output()\n",
                "    print(e)"
            ]
        },
        {
            "cell_type": "markdown",
            "metadata": {},
            "source": [
                "#### YAML structure is invalid"
            ]
        },
        {
            "cell_type": "code",
            "execution_count": 107,
            "metadata": {},
            "outputs": [
                {
                    "name": "stdout",
                    "output_type": "stream",
                    "text": [
                        "while parsing a block mapping\n",
                        "  in \"c:\\Users\\nelso\\Documents\\GitHub\\bento-mdf\\python\\tests\\samples\\ctdc_model_bad.yaml\", line 1, column 1\n",
                        "expected <block end>, but found '<block mapping start>'\n",
                        "  in \"c:\\Users\\nelso\\Documents\\GitHub\\bento-mdf\\python\\tests\\samples\\ctdc_model_bad.yaml\", line 3, column 3\n"
                    ]
                }
            ],
            "source": [
                "bad_yaml = mdf_dir / \"ctdc_model_bad.yaml\"\n",
                "\n",
                "try:\n",
                "    MDFValidator(None, bad_yaml, raise_error=True).load_and_validate_yaml()\n",
                "except ParserError as e:\n",
                "    clear_output()\n",
                "    print(e)"
            ]
        },
        {
            "cell_type": "markdown",
            "metadata": {},
            "source": [
                "#### MDF YAMLs are invalid against the MDF schema"
            ]
        },
        {
            "cell_type": "code",
            "execution_count": 114,
            "metadata": {},
            "outputs": [
                {
                    "name": "stdout",
                    "output_type": "stream",
                    "text": [
                        "'case.show_node' does not match '^[A-Za-z_][A-Za-z0-9_]*$'\n",
                        "\n",
                        "Failed validating 'pattern' in schema['properties']['PropDefinitions']['propertyNames']:\n",
                        "    {'$id': '#snake_case_id',\n",
                        "     'type': 'string',\n",
                        "     'pattern': '^[A-Za-z_][A-Za-z0-9_]*$'}\n",
                        "\n",
                        "On instance['PropDefinitions']:\n",
                        "    'case.show_node'\n"
                    ]
                }
            ],
            "source": [
                "test_schema = mdf_dir / \"mdf-schema.yaml\"\n",
                "ctdc_bad = mdf_dir / \"ctdc_model_file_invalid.yaml\"\n",
                "\n",
                "try:\n",
                "    v = MDFValidator(\n",
                "        test_schema,\n",
                "        *[ctdc_bad, ctdc_props],\n",
                "        raise_error=True\n",
                "    )\n",
                "    v.load_and_validate_schema()\n",
                "    v.load_and_validate_yaml()\n",
                "    v.validate_instance_with_schema()\n",
                "except ValidationError as e:\n",
                "    clear_output()\n",
                "    print(e)"
            ]
        },
        {
            "cell_type": "markdown",
            "metadata": {},
            "source": [
                "## Model Diff\n",
                "\n",
                "`bento-mdf` also provides the `diff_models` function, which can be used to compare two models and report on the differences between them. This is useful for comparing models that have been updated or modified over time.\n",
                "\n",
                "`diff_models()` has two required arguments, both of which are `bento_meta.Model` objects:\n",
                "  * `mdl_a`: The first model to compare.\n",
                "  * `mdl_b`: The second model to compare.\n",
                "\n",
                "The function returns a `dict` with keys for nodes, edges, props, and terms, each with a dictionary with keys:\n",
                "  * `\"added\"`: found in `mdl_a` but not in `mdl_b`\n",
                "  * `\"removed\"`: found in `mdl_b` but not in `mdl_a`\n",
                "  * `\"changed\"`: found in both models but with altered attributes"
            ]
        },
        {
            "cell_type": "code",
            "execution_count": 122,
            "metadata": {},
            "outputs": [
                {
                    "data": {
                        "text/plain": [
                            "{'nodes': {'changed': {'diagnosis': {'props': {'removed': {'fatal': <bento_meta.objects.Property at 0x24193d58710>},\n",
                            "     'added': None}}},\n",
                            "  'removed': None,\n",
                            "  'added': {'outcome': <bento_meta.objects.Node at 0x24193d674d0>}},\n",
                            " 'edges': {'removed': None,\n",
                            "  'added': {('end_result',\n",
                            "    'diagnosis',\n",
                            "    'outcome'): <bento_meta.objects.Edge at 0x24193d669f0>}},\n",
                            " 'props': {'removed': {('diagnosis',\n",
                            "    'fatal'): <bento_meta.objects.Property at 0x24193d58710>},\n",
                            "  'added': {('outcome',\n",
                            "    'fatal'): <bento_meta.objects.Property at 0x24193d48ad0>}}}"
                        ]
                    },
                    "execution_count": 122,
                    "metadata": {},
                    "output_type": "execute_result"
                }
            ],
            "source": [
                "from bento_mdf.diff import diff_models\n",
                "\n",
                "old_model = mdf_dir / \"test-model-d.yml\"\n",
                "new_model = mdf_dir / \"test-model-e.yml\"\n",
                "\n",
                "old_mdf = MDF(old_model, handle=\"TEST\")\n",
                "new_mdf = MDF(new_model, handle=\"TEST\")\n",
                "\n",
                "diff_models(mdl_a=old_mdf.model, mdl_b=new_mdf.model)"
            ]
        },
        {
            "cell_type": "markdown",
            "metadata": {},
            "source": [
                "`diff_models` has two optional arguments:\n",
                "  * `objects_as_dicts`: if True, the output will convert `bento-meta Entity` objects like `Node` or `Edge` to dictionaries with `get_attr_dict()`\n",
                "  * `include_summary`: if True, the output will include a formatted string summary of the differences between the two models. This can be useful for GitHub changelogs when a model is updated, for example."
            ]
        },
        {
            "cell_type": "code",
            "execution_count": 125,
            "metadata": {},
            "outputs": [
                {
                    "data": {
                        "text/plain": [
                            "{'diagnosis': {'props': {'removed': {'fatal': {'handle': 'fatal',\n",
                            "     'model': 'TEST',\n",
                            "     'value_domain': 'value_set',\n",
                            "     'is_strict': 'True',\n",
                            "     'is_required': 'False',\n",
                            "     'is_key': 'False',\n",
                            "     'is_nullable': 'False'}},\n",
                            "   'added': None}}}"
                        ]
                    },
                    "execution_count": 125,
                    "metadata": {},
                    "output_type": "execute_result"
                }
            ],
            "source": [
                "diff = diff_models(\n",
                "    old_mdf.model,\n",
                "    new_mdf.model,\n",
                "    objects_as_dicts=True, include_summary=True)\n",
                "\n",
                "diff[\"nodes\"][\"changed\"]"
            ]
        },
        {
            "cell_type": "code",
            "execution_count": 127,
            "metadata": {},
            "outputs": [
                {
                    "name": "stdout",
                    "output_type": "stream",
                    "text": [
                        "1 node(s) added; 1 edge(s) added; 1 prop(s) removed; 1 prop(s) added; 1 attribute(s) changed for 1 node(s)\n",
                        "- Added node: 'outcome'\n",
                        "- Added edge: 'end_result' with src: 'diagnosis' and dst: 'outcome'\n",
                        "- Removed prop: 'fatal' with parent: 'diagnosis'\n",
                        "- Added prop: 'fatal' with parent: 'outcome'\n"
                    ]
                }
            ],
            "source": [
                "print(diff[\"summary\"], sep=\"\\n\")"
            ]
        }
    ],
    "metadata": {
        "kernelspec": {
            "display_name": "Python 3",
            "language": "python",
            "name": "python3"
        },
        "language_info": {
            "codemirror_mode": {
                "name": "ipython",
                "version": 3
            },
            "file_extension": ".py",
            "mimetype": "text/x-python",
            "name": "python",
            "nbconvert_exporter": "python",
            "pygments_lexer": "ipython3",
            "version": "3.12.4"
        }
    },
    "nbformat": 4,
    "nbformat_minor": 4
}
