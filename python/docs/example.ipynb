{
    "cells": [
        {
            "attachments": {},
            "cell_type": "markdown",
            "metadata": {},
            "source": [
                "# Example Usage\n",
                "\n",
                "To use `bento-mdf` in a project, start by installing the latest version with `pip install bento-mdf` and importing it into your project."
            ]
        },
        {
            "cell_type": "code",
            "execution_count": 40,
            "metadata": {},
            "outputs": [
                {
                    "data": {
                        "text/plain": [
                            "'0.10.0'"
                        ]
                    },
                    "execution_count": 40,
                    "metadata": {},
                    "output_type": "execute_result"
                }
            ],
            "source": [
                "import bento_mdf\n",
                "from pathlib import Path # for file paths\n",
                "from importlib.metadata import version # check package version\n",
                "\n",
                "version(\"bento_mdf\")"
            ]
        },
        {
            "cell_type": "markdown",
            "metadata": {},
            "source": [
                "## Loading the Model from MDF(s)\n",
                "\n",
                "The `bento-mdf` package provides functionality for loading, validating, and manipulating MDF file content in Python.\n",
                "\n",
                "The `MDF` class is the main interface to the package. It is initialized with the relevant MDF file(s), filepath(s), or URL pointing to these."
            ]
        },
        {
            "cell_type": "code",
            "execution_count": 41,
            "metadata": {},
            "outputs": [],
            "source": [
                "from bento_mdf.mdf import MDF"
            ]
        },
        {
            "cell_type": "markdown",
            "metadata": {},
            "source": [
                "### Loading from File(s)\n",
                "\n",
                "First, we can specify the paths to the MDF files we want to load. Then, we simply provide these to the `MDF` class to initalize the model. This loads the content of these files into their corresponding `bento-meta` Python object representations, which we can access via the `Model` object found at `MDF.model`.\n",
                "\n",
                "(Note: if a top-level model `Handle` object is not present in the MDFs, it needs to be provided to the MDF class's `handle` argument.)"
            ]
        },
        {
            "cell_type": "code",
            "execution_count": 46,
            "metadata": {},
            "outputs": [
                {
                    "name": "stderr",
                    "output_type": "stream",
                    "text": [
                        "No instance yaml(s) specified\n"
                    ]
                },
                {
                    "data": {
                        "text/plain": [
                            "<bento_meta.model.Model at 0x23880923b00>"
                        ]
                    },
                    "execution_count": 46,
                    "metadata": {},
                    "output_type": "execute_result"
                }
            ],
            "source": [
                "mdf_dir = Path.cwd().parent / \"tests\" / \"samples\"\n",
                "ctdc_model = mdf_dir / \"ctdc_model_file.yaml\"\n",
                "ctdc_props = mdf_dir / \"ctdc_model_properties_file.yaml\"\n",
                "\n",
                "mdf_from_file = MDF(ctdc_model, ctdc_props, handle=\"CTDC\")\n",
                "mdf_from_file.model"
            ]
        },
        {
            "cell_type": "markdown",
            "metadata": {},
            "source": [
                "### Loading from URL(s)\n",
                "\n",
                "Similarly, we can instantiate an MDF from URL(s) pointing to the model file(s):"
            ]
        },
        {
            "cell_type": "code",
            "execution_count": 47,
            "metadata": {},
            "outputs": [
                {
                    "name": "stderr",
                    "output_type": "stream",
                    "text": [
                        "No instance yaml(s) specified\n"
                    ]
                },
                {
                    "data": {
                        "text/plain": [
                            "<bento_meta.model.Model at 0x238808e91c0>"
                        ]
                    },
                    "execution_count": 47,
                    "metadata": {},
                    "output_type": "execute_result"
                }
            ],
            "source": [
                "model_url = \"https://cbiit.github.io/icdc-model-tool/model-desc/icdc-model.yml\"\n",
                "props_url = \"https://cbiit.github.io/icdc-model-tool/model-desc/icdc-model-props.yml\"\n",
                "\n",
                "mdf = MDF(model_url, props_url, handle=\"ICDC\")\n",
                "mdf.model"
            ]
        },
        {
            "cell_type": "markdown",
            "metadata": {},
            "source": [
                "## Exploring the Model\n",
                "\n",
                "Once we've loaded the model, we can start looking at its constiuent parts such as Nodes, Relationships, Properties, and Terms. These are conveniently stored in the `Model` object. \n",
                "\n",
                "(Note: This example will use the model created in the previous section from a URL)"
            ]
        },
        {
            "cell_type": "markdown",
            "metadata": {},
            "source": [
                "### Nodes\n",
                "\n",
                "Model nodes are stored as dictionaries in `Model.nodes`, where the keys are node handles and the values are `bento-meta Node` objects."
            ]
        },
        {
            "cell_type": "code",
            "execution_count": 65,
            "metadata": {},
            "outputs": [
                {
                    "data": {
                        "text/plain": [
                            "33"
                        ]
                    },
                    "execution_count": 65,
                    "metadata": {},
                    "output_type": "execute_result"
                }
            ],
            "source": [
                "nodes = mdf.model.nodes\n",
                "\n",
                "len(nodes)"
            ]
        },
        {
            "cell_type": "code",
            "execution_count": 75,
            "metadata": {},
            "outputs": [
                {
                    "data": {
                        "text/plain": [
                            "['program', 'study', 'study_site']"
                        ]
                    },
                    "execution_count": 75,
                    "metadata": {},
                    "output_type": "execute_result"
                }
            ],
            "source": [
                "list(nodes.keys())[:3]"
            ]
        },
        {
            "cell_type": "code",
            "execution_count": 74,
            "metadata": {},
            "outputs": [
                {
                    "data": {
                        "text/plain": [
                            "[<bento_meta.objects.Node at 0x238809fbbc0>,\n",
                            " <bento_meta.objects.Node at 0x238806b7140>,\n",
                            " <bento_meta.objects.Node at 0x23880664a10>]"
                        ]
                    },
                    "execution_count": 74,
                    "metadata": {},
                    "output_type": "execute_result"
                }
            ],
            "source": [
                "list(nodes.values())[:3]"
            ]
        },
        {
            "cell_type": "code",
            "execution_count": 70,
            "metadata": {},
            "outputs": [
                {
                    "data": {
                        "text/plain": [
                            "<bento_meta.objects.Node at 0x238806b7140>"
                        ]
                    },
                    "execution_count": 70,
                    "metadata": {},
                    "output_type": "execute_result"
                }
            ],
            "source": [
                "nodes[\"study\"]"
            ]
        },
        {
            "cell_type": "markdown",
            "metadata": {},
            "source": [
                "the `get_attr_dict()` method is a convenient way to get a dictionary of a `bento-meta Entity's` set attributes. This will return string versions of the attributes. This can be useful for exploring the entity or for providing parameters to Neo4j Cypher queries.\n",
                "\n",
                "(Note: this only includes \"simple\" attributes and not other bento-meta Entities or collections of Entities. All attributes can be accessed via methods matching their names.)"
            ]
        },
        {
            "cell_type": "code",
            "execution_count": 71,
            "metadata": {},
            "outputs": [
                {
                    "data": {
                        "text/plain": [
                            "{'handle': 'diagnosis',\n",
                            " 'model': 'ICDC',\n",
                            " 'desc': 'The Diagnosis node contains numerous properties which fully characterize the type of cancer with which any given patient/subject/donor was diagnosed, inclusive of stage. This node also contains properties pertaining to comorbidities, and the availability of pathology reports, treatment data and follow-up data.'}"
                        ]
                    },
                    "execution_count": 71,
                    "metadata": {},
                    "output_type": "execute_result"
                }
            ],
            "source": [
                "nodes[\"diagnosis\"].get_attr_dict()"
            ]
        },
        {
            "cell_type": "markdown",
            "metadata": {},
            "source": [
                "### Relationships\n",
                "\n",
                "Simlarly, Model relationships are stored in `Model.edges`. This is a dictionary where the keys are (edge.handle, src.handle, dst.handle) tuples. The values are `Edge` objects."
            ]
        },
        {
            "cell_type": "code",
            "execution_count": 76,
            "metadata": {},
            "outputs": [
                {
                    "data": {
                        "text/plain": [
                            "49"
                        ]
                    },
                    "execution_count": 76,
                    "metadata": {},
                    "output_type": "execute_result"
                }
            ],
            "source": [
                "edges = mdf.model.edges\n",
                "\n",
                "len(edges)"
            ]
        },
        {
            "cell_type": "code",
            "execution_count": 77,
            "metadata": {},
            "outputs": [
                {
                    "data": {
                        "text/plain": [
                            "[('member_of', 'case', 'cohort'),\n",
                            " ('member_of', 'cohort', 'study_arm'),\n",
                            " ('member_of', 'study_arm', 'study')]"
                        ]
                    },
                    "execution_count": 77,
                    "metadata": {},
                    "output_type": "execute_result"
                }
            ],
            "source": [
                "list(edges.keys())[:3]"
            ]
        },
        {
            "cell_type": "code",
            "execution_count": 79,
            "metadata": {},
            "outputs": [
                {
                    "data": {
                        "text/plain": [
                            "[<bento_meta.objects.Edge at 0x238ff57d340>,\n",
                            " <bento_meta.objects.Edge at 0x238ff57cbf0>,\n",
                            " <bento_meta.objects.Edge at 0x238ff57deb0>]"
                        ]
                    },
                    "execution_count": 79,
                    "metadata": {},
                    "output_type": "execute_result"
                }
            ],
            "source": [
                "list(edges.values())[:3]"
            ]
        },
        {
            "cell_type": "code",
            "execution_count": 86,
            "metadata": {},
            "outputs": [
                {
                    "data": {
                        "text/plain": [
                            "{'handle': 'of_case', 'model': 'ICDC', 'multiplicity': 'many_to_one'}"
                        ]
                    },
                    "execution_count": 86,
                    "metadata": {},
                    "output_type": "execute_result"
                }
            ],
            "source": [
                "edges[(\"of_case\", \"diagnosis\", \"case\")].get_attr_dict()"
            ]
        },
        {
            "cell_type": "code",
            "execution_count": 90,
            "metadata": {},
            "outputs": [
                {
                    "name": "stdout",
                    "output_type": "stream",
                    "text": [
                        "of_case, diagnosis, case\n",
                        "('of_case', 'diagnosis', 'case')\n"
                    ]
                }
            ],
            "source": [
                "edge = edges[(\"of_case\", \"diagnosis\", \"case\")]\n",
                "print(edge.handle, edge.src.handle, edge.dst.handle, sep=\", \")\n",
                "\n",
                "\n",
                "# TIP: here's a convenient method to get the 3-tuple of an edge\n",
                "print(edge.triplet)"
            ]
        },
        {
            "cell_type": "markdown",
            "metadata": {},
            "source": [
                "An `Edge's` `src` and `dst` attributes are `Nodes`"
            ]
        },
        {
            "cell_type": "code",
            "execution_count": 89,
            "metadata": {},
            "outputs": [
                {
                    "name": "stdout",
                    "output_type": "stream",
                    "text": [
                        "<bento_meta.objects.Node object at 0x000002388065E870>\n",
                        "diagnosis\n"
                    ]
                }
            ],
            "source": [
                "print(edge.src)\n",
                "\n",
                "print(edge.src.handle)"
            ]
        },
        {
            "cell_type": "markdown",
            "metadata": {},
            "source": [
                "The `Model` object also has some useful methods to work with relationships/edges including:\n",
                "  * `edges_by_src(node)` - get all edges that have a given node as their src attribute\n",
                "  * `edges_by_dst(node)` - get all edges that have a given node as their dst attribute\n",
                "  * `edges_by_type(edge_handle)` - get all edges that have a given edge type (i.e., handle)"
            ]
        },
        {
            "cell_type": "code",
            "execution_count": 98,
            "metadata": {},
            "outputs": [
                {
                    "data": {
                        "text/plain": [
                            "[('of_case', 'enrollment', 'case'),\n",
                            " ('of_case', 'demographic', 'case'),\n",
                            " ('of_case', 'diagnosis', 'case'),\n",
                            " ('of_case', 'cycle', 'case'),\n",
                            " ('of_case', 'follow_up', 'case'),\n",
                            " ('of_case', 'sample', 'case'),\n",
                            " ('of_case', 'file', 'case'),\n",
                            " ('of_case', 'visit', 'case'),\n",
                            " ('of_case', 'adverse_event', 'case'),\n",
                            " ('of_case', 'registration', 'case')]"
                        ]
                    },
                    "execution_count": 98,
                    "metadata": {},
                    "output_type": "execute_result"
                }
            ],
            "source": [
                "[e.triplet for e in mdf.model.edges_by_dst(mdf.model.nodes[\"case\"])]"
            ]
        },
        {
            "cell_type": "code",
            "execution_count": 106,
            "metadata": {},
            "outputs": [
                {
                    "data": {
                        "text/plain": [
                            "[('of_study', 'study_site', 'study'),\n",
                            " ('of_study', 'principal_investigator', 'study'),\n",
                            " ('of_study', 'file', 'study'),\n",
                            " ('of_study', 'image_collection', 'study'),\n",
                            " ('of_study', 'publication', 'study')]"
                        ]
                    },
                    "execution_count": 106,
                    "metadata": {},
                    "output_type": "execute_result"
                }
            ],
            "source": [
                "[e.triplet for e in mdf.model.edges_by_type(\"of_study\")]"
            ]
        },
        {
            "cell_type": "markdown",
            "metadata": {},
            "source": [
                "### Properties\n",
                "\n",
                "Model properties are stored in `Model.props`. This is a dictionary where the keys are ({edge|node}.handle, prop.handle) tuples. The values are `Property` objects."
            ]
        },
        {
            "cell_type": "code",
            "execution_count": 117,
            "metadata": {},
            "outputs": [
                {
                    "data": {
                        "text/plain": [
                            "240"
                        ]
                    },
                    "execution_count": 117,
                    "metadata": {},
                    "output_type": "execute_result"
                }
            ],
            "source": [
                "props = mdf.model.props\n",
                "len(props)"
            ]
        },
        {
            "cell_type": "code",
            "execution_count": 118,
            "metadata": {},
            "outputs": [
                {
                    "data": {
                        "text/plain": [
                            "[('program', 'program_name'),\n",
                            " ('program', 'program_acronym'),\n",
                            " ('program', 'program_short_description')]"
                        ]
                    },
                    "execution_count": 118,
                    "metadata": {},
                    "output_type": "execute_result"
                }
            ],
            "source": [
                "list(props.keys())[:3]"
            ]
        },
        {
            "cell_type": "code",
            "execution_count": 119,
            "metadata": {},
            "outputs": [
                {
                    "data": {
                        "text/plain": [
                            "[<bento_meta.objects.Property at 0x238806da900>,\n",
                            " <bento_meta.objects.Property at 0x238806d9760>,\n",
                            " <bento_meta.objects.Property at 0x238806d8ad0>]"
                        ]
                    },
                    "execution_count": 119,
                    "metadata": {},
                    "output_type": "execute_result"
                }
            ],
            "source": [
                "list(props.values())[:3]"
            ]
        },
        {
            "cell_type": "code",
            "execution_count": 121,
            "metadata": {},
            "outputs": [
                {
                    "data": {
                        "text/plain": [
                            "{'handle': 'primary_disease_site',\n",
                            " 'model': 'ICDC',\n",
                            " 'is_required': 'Yes',\n",
                            " 'desc': 'The anatomical location at which the primary disease originated, recorded in relatively general terms at the subject level; the anatomical locations from which tumor samples subject to downstream analysis were acquired is recorded in more detailed terms at the sample level.',\n",
                            " 'value_domain': 'value_set',\n",
                            " 'is_strict': 'True'}"
                        ]
                    },
                    "execution_count": 121,
                    "metadata": {},
                    "output_type": "execute_result"
                }
            ],
            "source": [
                "primary_disease_site = props[(\"diagnosis\", \"primary_disease_site\")]\n",
                "primary_disease_site.get_attr_dict()"
            ]
        },
        {
            "cell_type": "markdown",
            "metadata": {},
            "source": [
                "#### Properties with Value Sets\n",
                "\n",
                "Properties with the value_domain \"value_set\" have the `value_set` attribute (`bento-meta ValueSet`), which has a `terms` attribute (`bento-meta Term` dictionary) ."
            ]
        },
        {
            "cell_type": "code",
            "execution_count": 122,
            "metadata": {},
            "outputs": [
                {
                    "data": {
                        "text/plain": [
                            "<bento_meta.objects.ValueSet at 0x238804abd70>"
                        ]
                    },
                    "execution_count": 122,
                    "metadata": {},
                    "output_type": "execute_result"
                }
            ],
            "source": [
                "primary_disease_site.value_set"
            ]
        },
        {
            "cell_type": "code",
            "execution_count": 124,
            "metadata": {},
            "outputs": [
                {
                    "data": {
                        "text/plain": [
                            "{'Bladder': <bento_meta.objects.Term object at 0x00000238804AB7A0>, 'Bladder, Prostate': <bento_meta.objects.Term object at 0x00000238804A9250>, 'Bladder, Urethra': <bento_meta.objects.Term object at 0x00000238804AB5F0>, 'Bladder, Urethra, Prostate': <bento_meta.objects.Term object at 0x00000238804AAD20>, 'Bladder, Urethra, Vagina': <bento_meta.objects.Term object at 0x00000238804AAB10>, 'Bone': <bento_meta.objects.Term object at 0x00000238804A8440>, 'Bone (Appendicular)': <bento_meta.objects.Term object at 0x00000238804A9C10>, 'Bone (Axial)': <bento_meta.objects.Term object at 0x00000238804AA030>, 'Bone Marrow': <bento_meta.objects.Term object at 0x00000238804A8140>, 'Brain': <bento_meta.objects.Term object at 0x00000238804AA8A0>, 'Carpus': <bento_meta.objects.Term object at 0x00000238FF56AD20>, 'Chest Wall': <bento_meta.objects.Term object at 0x00000238FF56B8C0>, 'Distal Urethra': <bento_meta.objects.Term object at 0x00000238FF56A2D0>, 'Kidney': <bento_meta.objects.Term object at 0x00000238FF56A180>, 'Lung': <bento_meta.objects.Term object at 0x00000238FF56A120>, 'Lymph Node': <bento_meta.objects.Term object at 0x00000238FF56B500>, 'Mammary Gland': <bento_meta.objects.Term object at 0x00000238FF569CD0>, 'Mouth': <bento_meta.objects.Term object at 0x00000238FF56BD10>, 'Not Applicable': <bento_meta.objects.Term object at 0x00000238FF569AC0>, 'Pleural Cavity': <bento_meta.objects.Term object at 0x00000238FF56B4D0>, 'Shoulder': <bento_meta.objects.Term object at 0x00000238FF56A4B0>, 'Skin': <bento_meta.objects.Term object at 0x00000238FF568530>, 'Spleen': <bento_meta.objects.Term object at 0x00000238FF56ADE0>, 'Subcutis': <bento_meta.objects.Term object at 0x00000238FF569EB0>, 'Thyroid Gland': <bento_meta.objects.Term object at 0x00000238FF569AF0>, 'Unknown': <bento_meta.objects.Term object at 0x00000238FF56B6E0>, 'Urethra, Prostate': <bento_meta.objects.Term object at 0x00000238FF5683E0>, 'Urinary Tract': <bento_meta.objects.Term object at 0x00000238FF5683B0>, 'Urogenital Tract': <bento_meta.objects.Term object at 0x00000238FF56ABA0>}"
                        ]
                    },
                    "execution_count": 124,
                    "metadata": {},
                    "output_type": "execute_result"
                }
            ],
            "source": [
                "primary_disease_site.value_set.terms"
            ]
        },
        {
            "cell_type": "markdown",
            "metadata": {},
            "source": [
                "`Property` objects with value sets have some useful methods to get to those terms and their values including:\n",
                "  * `.terms` returns a list of `Term` objects from the property's value set\n",
                "  * `.values` returns a list of the term values from the property's value set"
            ]
        },
        {
            "cell_type": "code",
            "execution_count": 128,
            "metadata": {},
            "outputs": [
                {
                    "name": "stdout",
                    "output_type": "stream",
                    "text": [
                        "{'Bladder': <bento_meta.objects.Term object at 0x00000238804AB7A0>, 'Bladder, Prostate': <bento_meta.objects.Term object at 0x00000238804A9250>, 'Bladder, Urethra': <bento_meta.objects.Term object at 0x00000238804AB5F0>, 'Bladder, Urethra, Prostate': <bento_meta.objects.Term object at 0x00000238804AAD20>, 'Bladder, Urethra, Vagina': <bento_meta.objects.Term object at 0x00000238804AAB10>, 'Bone': <bento_meta.objects.Term object at 0x00000238804A8440>, 'Bone (Appendicular)': <bento_meta.objects.Term object at 0x00000238804A9C10>, 'Bone (Axial)': <bento_meta.objects.Term object at 0x00000238804AA030>, 'Bone Marrow': <bento_meta.objects.Term object at 0x00000238804A8140>, 'Brain': <bento_meta.objects.Term object at 0x00000238804AA8A0>, 'Carpus': <bento_meta.objects.Term object at 0x00000238FF56AD20>, 'Chest Wall': <bento_meta.objects.Term object at 0x00000238FF56B8C0>, 'Distal Urethra': <bento_meta.objects.Term object at 0x00000238FF56A2D0>, 'Kidney': <bento_meta.objects.Term object at 0x00000238FF56A180>, 'Lung': <bento_meta.objects.Term object at 0x00000238FF56A120>, 'Lymph Node': <bento_meta.objects.Term object at 0x00000238FF56B500>, 'Mammary Gland': <bento_meta.objects.Term object at 0x00000238FF569CD0>, 'Mouth': <bento_meta.objects.Term object at 0x00000238FF56BD10>, 'Not Applicable': <bento_meta.objects.Term object at 0x00000238FF569AC0>, 'Pleural Cavity': <bento_meta.objects.Term object at 0x00000238FF56B4D0>, 'Shoulder': <bento_meta.objects.Term object at 0x00000238FF56A4B0>, 'Skin': <bento_meta.objects.Term object at 0x00000238FF568530>, 'Spleen': <bento_meta.objects.Term object at 0x00000238FF56ADE0>, 'Subcutis': <bento_meta.objects.Term object at 0x00000238FF569EB0>, 'Thyroid Gland': <bento_meta.objects.Term object at 0x00000238FF569AF0>, 'Unknown': <bento_meta.objects.Term object at 0x00000238FF56B6E0>, 'Urethra, Prostate': <bento_meta.objects.Term object at 0x00000238FF5683E0>, 'Urinary Tract': <bento_meta.objects.Term object at 0x00000238FF5683B0>, 'Urogenital Tract': <bento_meta.objects.Term object at 0x00000238FF56ABA0>}\n",
                        "True\n"
                    ]
                }
            ],
            "source": [
                "print(primary_disease_site.terms)\n",
                "\n",
                "# TIP: this is the same object fround at the ValueSet's `terms` attribute\n",
                "print(primary_disease_site.terms is primary_disease_site.value_set.terms)"
            ]
        },
        {
            "cell_type": "code",
            "execution_count": 135,
            "metadata": {},
            "outputs": [
                {
                    "name": "stdout",
                    "output_type": "stream",
                    "text": [
                        "Shoulder\n",
                        "29\n",
                        "True\n"
                    ]
                }
            ],
            "source": [
                "print(primary_disease_site.values[20])\n",
                "\n",
                "print(len(primary_disease_site.values))\n",
                "\n",
                "print(primary_disease_site.values == list(primary_disease_site.terms.keys()))"
            ]
        },
        {
            "cell_type": "markdown",
            "metadata": {},
            "source": [
                "#### Properties via Parent\n",
                "\n",
                "Model properties can also be accessed via their parent node|edge's `props` attribute, which is a dictionary of properties."
            ]
        },
        {
            "cell_type": "code",
            "execution_count": 111,
            "metadata": {},
            "outputs": [
                {
                    "data": {
                        "text/plain": [
                            "14"
                        ]
                    },
                    "execution_count": 111,
                    "metadata": {},
                    "output_type": "execute_result"
                }
            ],
            "source": [
                "diagnosis_props = nodes[\"diagnosis\"].props\n",
                "len(diagnosis_props)"
            ]
        },
        {
            "cell_type": "code",
            "execution_count": 112,
            "metadata": {},
            "outputs": [
                {
                    "data": {
                        "text/plain": [
                            "['diagnosis_id', 'disease_term', 'primary_disease_site']"
                        ]
                    },
                    "execution_count": 112,
                    "metadata": {},
                    "output_type": "execute_result"
                }
            ],
            "source": [
                "list(diagnosis_props.keys())[:3]"
            ]
        },
        {
            "cell_type": "code",
            "execution_count": 113,
            "metadata": {},
            "outputs": [
                {
                    "data": {
                        "text/plain": [
                            "[<bento_meta.objects.Property at 0x238ff578590>,\n",
                            " <bento_meta.objects.Property at 0x238ff578500>,\n",
                            " <bento_meta.objects.Property at 0x238804abdd0>]"
                        ]
                    },
                    "execution_count": 113,
                    "metadata": {},
                    "output_type": "execute_result"
                }
            ],
            "source": [
                "list(diagnosis_props.values())[:3]"
            ]
        },
        {
            "cell_type": "markdown",
            "metadata": {},
            "source": [
                "Properties accesed via their parents are the same Property objects found in `Model.props`."
            ]
        },
        {
            "cell_type": "code",
            "execution_count": 116,
            "metadata": {},
            "outputs": [
                {
                    "data": {
                        "text/plain": [
                            "True"
                        ]
                    },
                    "execution_count": 116,
                    "metadata": {},
                    "output_type": "execute_result"
                }
            ],
            "source": [
                "diagnosis_props[\"primary_disease_site\"] is props[(\"diagnosis\", \"primary_disease_site\")]"
            ]
        },
        {
            "cell_type": "markdown",
            "metadata": {},
            "source": [
                "### Terms\n",
                "\n",
                "Model terms are stored in `Model.terms` as a dictionary of `Term` objects. The keys are the term handles, and the values are the `Term` objects."
            ]
        },
        {
            "cell_type": "markdown",
            "metadata": {},
            "source": [
                "#### Term Annotations"
            ]
        }
    ],
    "metadata": {
        "kernelspec": {
            "display_name": "Python 3",
            "language": "python",
            "name": "python3"
        },
        "language_info": {
            "codemirror_mode": {
                "name": "ipython",
                "version": 3
            },
            "file_extension": ".py",
            "mimetype": "text/x-python",
            "name": "python",
            "nbconvert_exporter": "python",
            "pygments_lexer": "ipython3",
            "version": "3.12.4"
        }
    },
    "nbformat": 4,
    "nbformat_minor": 4
}
