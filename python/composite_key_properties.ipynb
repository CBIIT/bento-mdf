{
 "cells": [
  {
   "cell_type": "code",
   "execution_count": 1,
   "id": "c2c9387a-81df-47b5-b60f-1b4531024d74",
   "metadata": {},
   "outputs": [],
   "source": [
    "from bento_mdf.mdf import MDF"
   ]
  },
  {
   "cell_type": "code",
   "execution_count": 2,
   "id": "943bf192-9387-4866-9918-f7b2c4aacedc",
   "metadata": {},
   "outputs": [
    {
     "data": {
      "text/plain": [
       "bento_mdf.mdf.reader.MDFReader"
      ]
     },
     "execution_count": 2,
     "metadata": {},
     "output_type": "execute_result"
    }
   ],
   "source": [
    "MDF"
   ]
  },
  {
   "cell_type": "markdown",
   "id": "04cbd151-41f2-4fe0-b674-0547d5c85a0b",
   "metadata": {},
   "source": [
    "Read in the gold example MDF"
   ]
  },
  {
   "cell_type": "code",
   "execution_count": 3,
   "id": "2594aea1-2ebb-4e53-abc3-7a061bb9af0e",
   "metadata": {},
   "outputs": [
    {
     "name": "stderr",
     "output_type": "stream",
     "text": [
      "100%|████████████████████████████████████████████████████████| 17/17 [00:00<00:00, 26978.12it/s]\n"
     ]
    }
   ],
   "source": [
    "mdf = MDF('tests/samples/crdc_datahub_mdf.yml', ignore_enum_by_reference=True)"
   ]
  },
  {
   "cell_type": "markdown",
   "id": "bd1229fc-34e5-4753-963f-a7c102c3a139",
   "metadata": {},
   "source": [
    "`finding` is a node with a composite key attribute. The mdf object property 'mdf' contains the original (converted) JSON:"
   ]
  },
  {
   "cell_type": "code",
   "execution_count": 4,
   "id": "59cdfd68-309d-4fc5-aad9-f2a34748c2c8",
   "metadata": {},
   "outputs": [
    {
     "data": {
      "text/plain": [
       "{'CompKey': ['participant.participant_id',\n",
       "  'visit.visit_id',\n",
       "  'test_name',\n",
       "  'test_value'],\n",
       " 'Props': ['finding_id',\n",
       "  'test_name',\n",
       "  'test_value',\n",
       "  'transaction_id',\n",
       "  'transaction_date',\n",
       "  'id',\n",
       "  'date']}"
      ]
     },
     "execution_count": 4,
     "metadata": {},
     "output_type": "execute_result"
    }
   ],
   "source": [
    "mdf.mdf['Nodes']['finding']"
   ]
  },
  {
   "cell_type": "markdown",
   "id": "48089c06-2684-4a37-b0ee-f23bc93ffe69",
   "metadata": {},
   "source": [
    "From the parsed model, check out the `composite_key_props` attribute of the `finding` node:"
   ]
  },
  {
   "cell_type": "code",
   "execution_count": 11,
   "id": "58c440a1-c4bb-4b1d-9f76-815f6ee7dc65",
   "metadata": {},
   "outputs": [
    {
     "data": {
      "text/plain": [
       "[(<bento_meta.objects.Node at 0x112288410>,\n",
       "  <bento_meta.objects.Property at 0x11228dba0>),\n",
       " (<bento_meta.objects.Node at 0x112173e10>,\n",
       "  <bento_meta.objects.Property at 0x11228e3f0>),\n",
       " (<bento_meta.objects.Node at 0x11228c050>,\n",
       "  <bento_meta.objects.Property at 0x11228e780>),\n",
       " (<bento_meta.objects.Node at 0x11228c050>,\n",
       "  <bento_meta.objects.Property at 0x11228e8b0>)]"
      ]
     },
     "execution_count": 11,
     "metadata": {},
     "output_type": "execute_result"
    }
   ],
   "source": [
    "mdf.model.nodes['finding'].composite_key_props"
   ]
  },
  {
   "cell_type": "markdown",
   "id": "d5f38d49-830d-4bfd-a727-784426c56599",
   "metadata": {},
   "source": [
    "Each member of `composite_key_props` is a tuple of (Node, Property). Note that the composite key list can contain properties of linked nodes as well as the given node. This is a way to represent \"foreign keys\"."
   ]
  },
  {
   "cell_type": "code",
   "execution_count": 13,
   "id": "9da36eea-3bf8-40f8-aec6-8c1439fce7c1",
   "metadata": {},
   "outputs": [
    {
     "data": {
      "text/plain": [
       "['participant.participant_id',\n",
       " 'visit.visit_id',\n",
       " 'finding.test_name',\n",
       " 'finding.test_value']"
      ]
     },
     "execution_count": 13,
     "metadata": {},
     "output_type": "execute_result"
    }
   ],
   "source": [
    "[f\"{x[0].handle}.{x[1].handle}\" for x in mdf.model.nodes['finding'].composite_key_props]"
   ]
  },
  {
   "cell_type": "code",
   "execution_count": 12,
   "id": "1fc6672e-4295-4b42-a975-0117b2137a31",
   "metadata": {},
   "outputs": [
    {
     "data": {
      "text/plain": [
       "['participant.participant_id', 'visit.visit_date']"
      ]
     },
     "execution_count": 12,
     "metadata": {},
     "output_type": "execute_result"
    }
   ],
   "source": [
    "[f\"{x[0].handle}.{x[1].handle}\" for x in mdf.model.nodes['visit'].composite_key_props]"
   ]
  },
  {
   "cell_type": "code",
   "execution_count": null,
   "id": "3d21ab19-8427-4961-a22c-87353c2c151b",
   "metadata": {},
   "outputs": [],
   "source": []
  }
 ],
 "metadata": {
  "kernelspec": {
   "display_name": "Python 3 (ipykernel)",
   "language": "python",
   "name": "python3"
  },
  "language_info": {
   "codemirror_mode": {
    "name": "ipython",
    "version": 3
   },
   "file_extension": ".py",
   "mimetype": "text/x-python",
   "name": "python",
   "nbconvert_exporter": "python",
   "pygments_lexer": "ipython3",
   "version": "3.13.3"
  }
 },
 "nbformat": 4,
 "nbformat_minor": 5
}
